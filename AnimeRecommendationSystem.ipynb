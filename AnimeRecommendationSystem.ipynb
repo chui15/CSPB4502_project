{
 "cells": [
  {
   "cell_type": "markdown",
   "id": "1130352b-b1de-4cad-ba3b-d5f910445529",
   "metadata": {},
   "source": [
    "# CSPB4502 Spring 2022 Final Project: Anime Recommendation System\n",
    "\n",
    "Group 1: Matthew Fournier, Christie Hui"
   ]
  },
  {
   "cell_type": "code",
   "execution_count": 55,
   "id": "84f11179-10f3-49b9-bb00-916d05bd5a23",
   "metadata": {},
   "outputs": [],
   "source": [
    "%matplotlib inline\n",
    "import pandas as pd\n",
    "import matplotlib.pyplot as plt\n",
    "import numpy as np\n",
    "import scipy\n",
    "import scipy.stats\n",
    "import seaborn as sns\n",
    "sns.set_style('whitegrid')\n",
    "import math"
   ]
  },
  {
   "cell_type": "markdown",
   "id": "d80e36cb-c059-4703-ace8-8806a2be048d",
   "metadata": {},
   "source": [
    "### Overview of Project\n",
    "\n",
    "The aim of this project is to create an anime recommendation system for users based on existing user data obtained from MyAnimeList.net, which is essentially a cataloging site which allows users to keep lists of which anime they’ve seen/plan to see, view user reviews of anime titles, and rate shows based on a scale from 1-10. The motivation behind choosing this topic is due to a shared common interest in anime as well as prior familiarity with MyAnimeList site functionality. The knowledge and results gained from the analysis of this data set may be beneficial for future personal decisions regarding choosing an anime to watch.\n",
    "\n",
    "Based on certain features from the data set – such as anime titles, genres, and ratings, to name a few – we aim to discover and answer interesting questions such as:\n",
    "\n",
    "- Which genres (of anime) contribute to ambiguous users’ watching decisions?\n",
    "- How much do features such as rating, episode count, and anime type influence a user’s viewing choices?\n",
    "- Is the popularity of an anime or similarity to other users’ profiles/viewing preferences more significant in impacting a user’s preferences?\n",
    "\n",
    "Our project will aim to answer the questions above at minimum."
   ]
  },
  {
   "cell_type": "markdown",
   "id": "bf54a229-835e-433a-8a25-18d4e6d74d10",
   "metadata": {},
   "source": [
    "### Description of Data"
   ]
  },
  {
   "cell_type": "markdown",
   "id": "bf64c188-6b39-4053-8007-77762cbb18f6",
   "metadata": {},
   "source": [
    "The data set was obtained from Kaggle.com: https://www.kaggle.com/CooperUnion/anime-recommendations-database. The data set is comprised of two separate CSV files, Anime.csv and Rating.csv, and it contains information on user preference data from 73,516 users on 12,294 different anime titles from the website MyAnimeList.net. Each user has the ability to add an anime title to their watched anime list along with a rating out of 1-10.\n",
    "\n",
    "The Anime.csv file contains the columns: \n",
    "- anime_id (the unique identifier assigned to an anime title by MyAnimeList)\n",
    "- name (full name of anime title)\n",
    "- genre (comma separated list of genres for an anime title)\n",
    "- type (whether the anime is a movie, OVA, TV episode, etc.)\n",
    "- number of episodes (how many episodes for a given anime title, given a value of 1 if the type is a movie)\n",
    "- rating (average rating out of 10 for an anime title)\n",
    "- members (the amount of users on the site who have added a particular anime to their profile)\n",
    "\n",
    "The Rating.csv file contains the columns: \n",
    "- user_id (a randomly generated user ID)\n",
    "- anime_id (the unique identifier assigned to an anime that the particular user has rated)\n",
    "- rating (the rating out of 1-10 that the particular user has assigned, given a value of -1 in the data set if no rating was assigned)"
   ]
  },
  {
   "cell_type": "markdown",
   "id": "025885a9-6592-433c-af8e-aed0c1b8ca93",
   "metadata": {},
   "source": [
    "### Data Preprocessing"
   ]
  },
  {
   "cell_type": "code",
   "execution_count": 56,
   "id": "bbf7827d-d980-4cc2-bfc9-f3c1388985ef",
   "metadata": {},
   "outputs": [],
   "source": [
    "anime = pd.read_csv('anime.csv')"
   ]
  },
  {
   "cell_type": "code",
   "execution_count": 57,
   "id": "22642878-4ee6-445d-8158-74f8b32e3332",
   "metadata": {},
   "outputs": [
    {
     "data": {
      "text/html": [
       "<div>\n",
       "<style scoped>\n",
       "    .dataframe tbody tr th:only-of-type {\n",
       "        vertical-align: middle;\n",
       "    }\n",
       "\n",
       "    .dataframe tbody tr th {\n",
       "        vertical-align: top;\n",
       "    }\n",
       "\n",
       "    .dataframe thead th {\n",
       "        text-align: right;\n",
       "    }\n",
       "</style>\n",
       "<table border=\"1\" class=\"dataframe\">\n",
       "  <thead>\n",
       "    <tr style=\"text-align: right;\">\n",
       "      <th></th>\n",
       "      <th>anime_id</th>\n",
       "      <th>name</th>\n",
       "      <th>genre</th>\n",
       "      <th>type</th>\n",
       "      <th>episodes</th>\n",
       "      <th>rating</th>\n",
       "      <th>members</th>\n",
       "    </tr>\n",
       "  </thead>\n",
       "  <tbody>\n",
       "    <tr>\n",
       "      <th>0</th>\n",
       "      <td>32281</td>\n",
       "      <td>Kimi no Na wa.</td>\n",
       "      <td>Drama, Romance, School, Supernatural</td>\n",
       "      <td>Movie</td>\n",
       "      <td>1</td>\n",
       "      <td>9.37</td>\n",
       "      <td>200630</td>\n",
       "    </tr>\n",
       "    <tr>\n",
       "      <th>1</th>\n",
       "      <td>5114</td>\n",
       "      <td>Fullmetal Alchemist: Brotherhood</td>\n",
       "      <td>Action, Adventure, Drama, Fantasy, Magic, Mili...</td>\n",
       "      <td>TV</td>\n",
       "      <td>64</td>\n",
       "      <td>9.26</td>\n",
       "      <td>793665</td>\n",
       "    </tr>\n",
       "    <tr>\n",
       "      <th>2</th>\n",
       "      <td>28977</td>\n",
       "      <td>Gintama°</td>\n",
       "      <td>Action, Comedy, Historical, Parody, Samurai, S...</td>\n",
       "      <td>TV</td>\n",
       "      <td>51</td>\n",
       "      <td>9.25</td>\n",
       "      <td>114262</td>\n",
       "    </tr>\n",
       "    <tr>\n",
       "      <th>3</th>\n",
       "      <td>9253</td>\n",
       "      <td>Steins;Gate</td>\n",
       "      <td>Sci-Fi, Thriller</td>\n",
       "      <td>TV</td>\n",
       "      <td>24</td>\n",
       "      <td>9.17</td>\n",
       "      <td>673572</td>\n",
       "    </tr>\n",
       "    <tr>\n",
       "      <th>4</th>\n",
       "      <td>9969</td>\n",
       "      <td>Gintama&amp;#039;</td>\n",
       "      <td>Action, Comedy, Historical, Parody, Samurai, S...</td>\n",
       "      <td>TV</td>\n",
       "      <td>51</td>\n",
       "      <td>9.16</td>\n",
       "      <td>151266</td>\n",
       "    </tr>\n",
       "  </tbody>\n",
       "</table>\n",
       "</div>"
      ],
      "text/plain": [
       "   anime_id                              name  \\\n",
       "0     32281                    Kimi no Na wa.   \n",
       "1      5114  Fullmetal Alchemist: Brotherhood   \n",
       "2     28977                          Gintama°   \n",
       "3      9253                       Steins;Gate   \n",
       "4      9969                     Gintama&#039;   \n",
       "\n",
       "                                               genre   type episodes  rating  \\\n",
       "0               Drama, Romance, School, Supernatural  Movie        1    9.37   \n",
       "1  Action, Adventure, Drama, Fantasy, Magic, Mili...     TV       64    9.26   \n",
       "2  Action, Comedy, Historical, Parody, Samurai, S...     TV       51    9.25   \n",
       "3                                   Sci-Fi, Thriller     TV       24    9.17   \n",
       "4  Action, Comedy, Historical, Parody, Samurai, S...     TV       51    9.16   \n",
       "\n",
       "   members  \n",
       "0   200630  \n",
       "1   793665  \n",
       "2   114262  \n",
       "3   673572  \n",
       "4   151266  "
      ]
     },
     "execution_count": 57,
     "metadata": {},
     "output_type": "execute_result"
    }
   ],
   "source": [
    "anime.head()"
   ]
  },
  {
   "cell_type": "code",
   "execution_count": 58,
   "id": "4e93af71-eb7b-4900-a779-197e1aceb9c4",
   "metadata": {},
   "outputs": [],
   "source": [
    "users = pd.read_csv('rating.csv')"
   ]
  },
  {
   "cell_type": "code",
   "execution_count": 59,
   "id": "dd5ef464-3179-457a-b699-6068a175d85c",
   "metadata": {},
   "outputs": [
    {
     "data": {
      "text/html": [
       "<div>\n",
       "<style scoped>\n",
       "    .dataframe tbody tr th:only-of-type {\n",
       "        vertical-align: middle;\n",
       "    }\n",
       "\n",
       "    .dataframe tbody tr th {\n",
       "        vertical-align: top;\n",
       "    }\n",
       "\n",
       "    .dataframe thead th {\n",
       "        text-align: right;\n",
       "    }\n",
       "</style>\n",
       "<table border=\"1\" class=\"dataframe\">\n",
       "  <thead>\n",
       "    <tr style=\"text-align: right;\">\n",
       "      <th></th>\n",
       "      <th>user_id</th>\n",
       "      <th>anime_id</th>\n",
       "      <th>rating</th>\n",
       "    </tr>\n",
       "  </thead>\n",
       "  <tbody>\n",
       "    <tr>\n",
       "      <th>0</th>\n",
       "      <td>1</td>\n",
       "      <td>20</td>\n",
       "      <td>-1</td>\n",
       "    </tr>\n",
       "    <tr>\n",
       "      <th>1</th>\n",
       "      <td>1</td>\n",
       "      <td>24</td>\n",
       "      <td>-1</td>\n",
       "    </tr>\n",
       "    <tr>\n",
       "      <th>2</th>\n",
       "      <td>1</td>\n",
       "      <td>79</td>\n",
       "      <td>-1</td>\n",
       "    </tr>\n",
       "    <tr>\n",
       "      <th>3</th>\n",
       "      <td>1</td>\n",
       "      <td>226</td>\n",
       "      <td>-1</td>\n",
       "    </tr>\n",
       "    <tr>\n",
       "      <th>4</th>\n",
       "      <td>1</td>\n",
       "      <td>241</td>\n",
       "      <td>-1</td>\n",
       "    </tr>\n",
       "  </tbody>\n",
       "</table>\n",
       "</div>"
      ],
      "text/plain": [
       "   user_id  anime_id  rating\n",
       "0        1        20      -1\n",
       "1        1        24      -1\n",
       "2        1        79      -1\n",
       "3        1       226      -1\n",
       "4        1       241      -1"
      ]
     },
     "execution_count": 59,
     "metadata": {},
     "output_type": "execute_result"
    }
   ],
   "source": [
    "users.head()"
   ]
  },
  {
   "cell_type": "code",
   "execution_count": 60,
   "id": "2ec9f8f4-4342-4b58-83ea-b1a70df8c379",
   "metadata": {},
   "outputs": [
    {
     "name": "stdout",
     "output_type": "stream",
     "text": [
      "<class 'pandas.core.frame.DataFrame'>\n",
      "RangeIndex: 12294 entries, 0 to 12293\n",
      "Data columns (total 7 columns):\n",
      " #   Column    Non-Null Count  Dtype  \n",
      "---  ------    --------------  -----  \n",
      " 0   anime_id  12294 non-null  int64  \n",
      " 1   name      12294 non-null  object \n",
      " 2   genre     12232 non-null  object \n",
      " 3   type      12269 non-null  object \n",
      " 4   episodes  12294 non-null  object \n",
      " 5   rating    12064 non-null  float64\n",
      " 6   members   12294 non-null  int64  \n",
      "dtypes: float64(1), int64(2), object(4)\n",
      "memory usage: 672.5+ KB\n"
     ]
    }
   ],
   "source": [
    "anime.info()"
   ]
  },
  {
   "cell_type": "code",
   "execution_count": 61,
   "id": "1730cb54-fe30-44e0-83af-e04bfa682f30",
   "metadata": {},
   "outputs": [
    {
     "name": "stdout",
     "output_type": "stream",
     "text": [
      "<class 'pandas.core.frame.DataFrame'>\n",
      "RangeIndex: 7813737 entries, 0 to 7813736\n",
      "Data columns (total 3 columns):\n",
      " #   Column    Dtype\n",
      "---  ------    -----\n",
      " 0   user_id   int64\n",
      " 1   anime_id  int64\n",
      " 2   rating    int64\n",
      "dtypes: int64(3)\n",
      "memory usage: 178.8 MB\n"
     ]
    }
   ],
   "source": [
    "users.info()"
   ]
  },
  {
   "cell_type": "code",
   "execution_count": 62,
   "id": "b225d323",
   "metadata": {},
   "outputs": [
    {
     "data": {
      "text/plain": [
       "user_id     7813737\n",
       "anime_id    7813737\n",
       "rating      7813737\n",
       "dtype: int64"
      ]
     },
     "execution_count": 62,
     "metadata": {},
     "output_type": "execute_result"
    }
   ],
   "source": [
    "users.count()"
   ]
  },
  {
   "cell_type": "code",
   "execution_count": 63,
   "id": "41c28f5e",
   "metadata": {},
   "outputs": [
    {
     "data": {
      "text/plain": [
       "Text(0.5, 1.0, 'Rating Distribution')"
      ]
     },
     "execution_count": 63,
     "metadata": {},
     "output_type": "execute_result"
    },
    {
     "data": {
      "image/png": "[encoded data removed]",
      "text/plain": [
       "<Figure size 432x288 with 1 Axes>"
      ]
     },
     "metadata": {},
     "output_type": "display_data"
    }
   ],
   "source": [
    "#naive data dispersion\n",
    "plt.hist(users['rating'], bins = 10)\n",
    "plt.ylabel('Probability')\n",
    "plt.xlabel('Rating')\n",
    "plt.title('Rating Distribution')"
   ]
  },
  {
   "cell_type": "code",
   "execution_count": 64,
   "id": "ef8a05d0-c5d0-49cc-a874-1a71acc2405c",
   "metadata": {},
   "outputs": [
    {
     "data": {
      "text/plain": [
       " 8     1646019\n",
       "-1     1476496\n",
       " 7     1375287\n",
       " 9     1254096\n",
       " 10     955715\n",
       " 6      637775\n",
       " 5      282806\n",
       " 4      104291\n",
       " 3       41453\n",
       " 2       23150\n",
       " 1       16649\n",
       "Name: rating, dtype: int64"
      ]
     },
     "execution_count": 64,
     "metadata": {},
     "output_type": "execute_result"
    }
   ],
   "source": [
    "# total counts for each rating\n",
    "\n",
    "users.rating.value_counts()"
   ]
  },
  {
   "cell_type": "markdown",
   "id": "e3f6a929-a527-4916-a1d0-bb1028bdf508",
   "metadata": {},
   "source": [
    "As seen from the preview of the users dataframe as well as the count distribution for each rating, the rating.csv file contains a large number of the integer value -1 (1476496 values out of 7813737) for anime listings in which users did not assign a rating. Since users did not assign a rating to these anime entries, we will simply drop the rows with the value of -1 in the rating column."
   ]
  },
  {
   "cell_type": "code",
   "execution_count": 65,
   "id": "88604bfa-756f-412c-a57f-369c51d39231",
   "metadata": {},
   "outputs": [],
   "source": [
    "users = users[users['rating'] != -1]"
   ]
  },
  {
   "cell_type": "markdown",
   "id": "94712af7-512c-4fc0-8b6f-562ad0eafc98",
   "metadata": {},
   "source": [
    "We also want to update our anime dataframe to include TV anime types only, since our recommendation system will be recommending anime series."
   ]
  },
  {
   "cell_type": "code",
   "execution_count": 66,
   "id": "e387af2c-c899-495a-aaf5-291cdad49b86",
   "metadata": {},
   "outputs": [],
   "source": [
    "anime = anime[anime['type']=='TV']"
   ]
  },
  {
   "cell_type": "markdown",
   "id": "4d2df15c-662f-41f8-8760-346f3f6a6eff",
   "metadata": {},
   "source": [
    "After updating these values, we can merge the two dataframes based on the anime_id attribute in order to get the name of the anime titles."
   ]
  },
  {
   "cell_type": "code",
   "execution_count": 67,
   "id": "4a9c7971-f776-4ab3-bfaa-4e2e1018f819",
   "metadata": {},
   "outputs": [],
   "source": [
    "rated_anime = pd.merge(users,anime[['anime_id','name']], left_on = 'anime_id', right_on = 'anime_id').drop('anime_id', axis=1)"
   ]
  },
  {
   "cell_type": "code",
   "execution_count": 68,
   "id": "62f406f2-fecc-4d30-8824-22426a267c77",
   "metadata": {},
   "outputs": [
    {
     "data": {
      "text/html": [
       "<div>\n",
       "<style scoped>\n",
       "    .dataframe tbody tr th:only-of-type {\n",
       "        vertical-align: middle;\n",
       "    }\n",
       "\n",
       "    .dataframe tbody tr th {\n",
       "        vertical-align: top;\n",
       "    }\n",
       "\n",
       "    .dataframe thead th {\n",
       "        text-align: right;\n",
       "    }\n",
       "</style>\n",
       "<table border=\"1\" class=\"dataframe\">\n",
       "  <thead>\n",
       "    <tr style=\"text-align: right;\">\n",
       "      <th></th>\n",
       "      <th>user_id</th>\n",
       "      <th>rating</th>\n",
       "      <th>name</th>\n",
       "    </tr>\n",
       "  </thead>\n",
       "  <tbody>\n",
       "    <tr>\n",
       "      <th>0</th>\n",
       "      <td>1</td>\n",
       "      <td>10</td>\n",
       "      <td>Highschool of the Dead</td>\n",
       "    </tr>\n",
       "    <tr>\n",
       "      <th>1</th>\n",
       "      <td>3</td>\n",
       "      <td>6</td>\n",
       "      <td>Highschool of the Dead</td>\n",
       "    </tr>\n",
       "    <tr>\n",
       "      <th>2</th>\n",
       "      <td>5</td>\n",
       "      <td>2</td>\n",
       "      <td>Highschool of the Dead</td>\n",
       "    </tr>\n",
       "    <tr>\n",
       "      <th>3</th>\n",
       "      <td>12</td>\n",
       "      <td>6</td>\n",
       "      <td>Highschool of the Dead</td>\n",
       "    </tr>\n",
       "    <tr>\n",
       "      <th>4</th>\n",
       "      <td>14</td>\n",
       "      <td>6</td>\n",
       "      <td>Highschool of the Dead</td>\n",
       "    </tr>\n",
       "    <tr>\n",
       "      <th>5</th>\n",
       "      <td>17</td>\n",
       "      <td>7</td>\n",
       "      <td>Highschool of the Dead</td>\n",
       "    </tr>\n",
       "    <tr>\n",
       "      <th>6</th>\n",
       "      <td>24</td>\n",
       "      <td>7</td>\n",
       "      <td>Highschool of the Dead</td>\n",
       "    </tr>\n",
       "    <tr>\n",
       "      <th>7</th>\n",
       "      <td>27</td>\n",
       "      <td>9</td>\n",
       "      <td>Highschool of the Dead</td>\n",
       "    </tr>\n",
       "    <tr>\n",
       "      <th>8</th>\n",
       "      <td>29</td>\n",
       "      <td>2</td>\n",
       "      <td>Highschool of the Dead</td>\n",
       "    </tr>\n",
       "    <tr>\n",
       "      <th>9</th>\n",
       "      <td>30</td>\n",
       "      <td>8</td>\n",
       "      <td>Highschool of the Dead</td>\n",
       "    </tr>\n",
       "  </tbody>\n",
       "</table>\n",
       "</div>"
      ],
      "text/plain": [
       "   user_id  rating                    name\n",
       "0        1      10  Highschool of the Dead\n",
       "1        3       6  Highschool of the Dead\n",
       "2        5       2  Highschool of the Dead\n",
       "3       12       6  Highschool of the Dead\n",
       "4       14       6  Highschool of the Dead\n",
       "5       17       7  Highschool of the Dead\n",
       "6       24       7  Highschool of the Dead\n",
       "7       27       9  Highschool of the Dead\n",
       "8       29       2  Highschool of the Dead\n",
       "9       30       8  Highschool of the Dead"
      ]
     },
     "execution_count": 68,
     "metadata": {},
     "output_type": "execute_result"
    }
   ],
   "source": [
    "rated_anime.head(10)"
   ]
  },
  {
   "cell_type": "markdown",
   "id": "be6363a2-8ff5-48b7-aaa1-3032d10bc5b5",
   "metadata": {},
   "source": [
    "After merging the two dataframes, we can do some further exploration of the relationship between various anime titles and their ratings. Let's take a look at some of the supposedly top rated anime:"
   ]
  },
  {
   "cell_type": "code",
   "execution_count": 69,
   "id": "b058c563-d4ea-4bea-832b-59c0eea42e62",
   "metadata": {},
   "outputs": [
    {
     "data": {
      "text/html": [
       "<div>\n",
       "<style scoped>\n",
       "    .dataframe tbody tr th:only-of-type {\n",
       "        vertical-align: middle;\n",
       "    }\n",
       "\n",
       "    .dataframe tbody tr th {\n",
       "        vertical-align: top;\n",
       "    }\n",
       "\n",
       "    .dataframe thead th {\n",
       "        text-align: right;\n",
       "    }\n",
       "</style>\n",
       "<table border=\"1\" class=\"dataframe\">\n",
       "  <thead>\n",
       "    <tr style=\"text-align: right;\">\n",
       "      <th></th>\n",
       "      <th>user_id</th>\n",
       "      <th>rating</th>\n",
       "    </tr>\n",
       "  </thead>\n",
       "  <tbody>\n",
       "    <tr>\n",
       "      <th>user_id</th>\n",
       "      <td>1.000000</td>\n",
       "      <td>0.003054</td>\n",
       "    </tr>\n",
       "    <tr>\n",
       "      <th>rating</th>\n",
       "      <td>0.003054</td>\n",
       "      <td>1.000000</td>\n",
       "    </tr>\n",
       "  </tbody>\n",
       "</table>\n",
       "</div>"
      ],
      "text/plain": [
       "          user_id    rating\n",
       "user_id  1.000000  0.003054\n",
       "rating   0.003054  1.000000"
      ]
     },
     "execution_count": 69,
     "metadata": {},
     "output_type": "execute_result"
    }
   ],
   "source": [
    "rated_anime.corr()"
   ]
  },
  {
   "cell_type": "code",
   "execution_count": 70,
   "id": "bf5b0ae0-d6de-4b57-91f9-13d9be586fc6",
   "metadata": {},
   "outputs": [
    {
     "data": {
      "text/plain": [
       "name\n",
       "Gozonji! Gekkou Kamen-kun                    10.0\n",
       "Choegang Top Plate                           10.0\n",
       "Play Ball 2nd                                10.0\n",
       "Hamster Club                                 10.0\n",
       "Sekai Meisaku Douwa: Wow! Maerchen Oukoku    10.0\n",
       "Yattokame Tanteidan                          10.0\n",
       "Robotan                                      10.0\n",
       "What&#039;s Michael? (TV)                    10.0\n",
       "Takoyaki Mant-Man                            10.0\n",
       "Only You: Viva! Cabaret Club                 10.0\n",
       "Name: rating, dtype: float64"
      ]
     },
     "execution_count": 70,
     "metadata": {},
     "output_type": "execute_result"
    }
   ],
   "source": [
    "rated_anime.groupby('name')['rating'].mean().sort_values(ascending=False).head(10)"
   ]
  },
  {
   "cell_type": "markdown",
   "id": "13667746-cad9-4ae1-b4ee-cb62b3753064",
   "metadata": {},
   "source": [
    "This is interesting because there appears to be an anime with a rating of 10, which is a bit curious.  We can include another attribute from the data sets in order to get a better recommendation.  One attribute that we can use is the number of users, since the higher the number of users that have watched a particular anime title, the higher the likelihood is that the anime title would have a less skewed/biased rating."
   ]
  },
  {
   "cell_type": "code",
   "execution_count": 71,
   "id": "4769e8c1-9471-41db-80c2-64a5918e1983",
   "metadata": {},
   "outputs": [
    {
     "data": {
      "text/plain": [
       "name\n",
       "Death Note                            34226\n",
       "Sword Art Online                      26310\n",
       "Shingeki no Kyojin                    25290\n",
       "Code Geass: Hangyaku no Lelouch       24126\n",
       "Angel Beats!                          23565\n",
       "Elfen Lied                            23528\n",
       "Naruto                                22071\n",
       "Fullmetal Alchemist: Brotherhood      21494\n",
       "Fullmetal Alchemist                   21332\n",
       "Code Geass: Hangyaku no Lelouch R2    21124\n",
       "Name: rating, dtype: int64"
      ]
     },
     "execution_count": 71,
     "metadata": {},
     "output_type": "execute_result"
    }
   ],
   "source": [
    "rated_anime.groupby('name')['rating'].count().sort_values(ascending=False).head(10)"
   ]
  },
  {
   "cell_type": "markdown",
   "id": "0a1a6f16-7a42-4325-975b-53991fefd429",
   "metadata": {},
   "source": [
    "### Exploratory Data Analysis"
   ]
  },
  {
   "cell_type": "markdown",
   "id": "e441b9b0-8569-46f2-bb64-9ad3367f9ac3",
   "metadata": {},
   "source": [
    "Now that we've done a bit of data preprocessing, let's do some further analysis centered around the \"ratings\" attribute."
   ]
  },
  {
   "cell_type": "code",
   "execution_count": 72,
   "id": "ee638c44-10fe-4405-8a62-0c9f2bad109c",
   "metadata": {},
   "outputs": [
    {
     "data": {
      "text/plain": [
       "42635    1953\n",
       "57620    1485\n",
       "59643    1442\n",
       "45659    1315\n",
       "7345     1182\n",
       "         ... \n",
       "25756       1\n",
       "2704        1\n",
       "3854        1\n",
       "13462       1\n",
       "38212       1\n",
       "Name: user_id, Length: 68929, dtype: int64"
      ]
     },
     "execution_count": 72,
     "metadata": {},
     "output_type": "execute_result"
    }
   ],
   "source": [
    "rated_anime['user_id'].value_counts()"
   ]
  },
  {
   "cell_type": "markdown",
   "id": "be0bbbd2-e018-446f-9049-0faf4f74e227",
   "metadata": {},
   "source": [
    "From the code snippet above, we can see that there are several users in the data frame who have only assigned a rating once. We will go ahead and assume that these entries will not contribute meaningfully to our analysis, so we will define a minimum threshold of 200 ratings for users."
   ]
  },
  {
   "cell_type": "code",
   "execution_count": 73,
   "id": "8f6b50a9-56e4-454d-b5ea-6ec4ed74ca6e",
   "metadata": {},
   "outputs": [
    {
     "data": {
      "text/plain": [
       "42635    1953\n",
       "57620    1485\n",
       "59643    1442\n",
       "45659    1315\n",
       "7345     1182\n",
       "         ... \n",
       "11871     200\n",
       "69737     200\n",
       "20100     200\n",
       "22470     200\n",
       "61438     200\n",
       "Name: user_id, Length: 4687, dtype: int64"
      ]
     },
     "execution_count": 73,
     "metadata": {},
     "output_type": "execute_result"
    }
   ],
   "source": [
    "counts = rated_anime['user_id'].value_counts()\n",
    "rated_anime = rated_anime[rated_anime['user_id'].isin(counts[counts >= 200].index)]\n",
    "rated_anime['user_id'].value_counts()"
   ]
  },
  {
   "cell_type": "code",
   "execution_count": 74,
   "id": "7a5aec36-76b8-4a99-a11d-f468f25caeaa",
   "metadata": {},
   "outputs": [
    {
     "data": {
      "text/html": [
       "<div>\n",
       "<style scoped>\n",
       "    .dataframe tbody tr th:only-of-type {\n",
       "        vertical-align: middle;\n",
       "    }\n",
       "\n",
       "    .dataframe tbody tr th {\n",
       "        vertical-align: top;\n",
       "    }\n",
       "\n",
       "    .dataframe thead th {\n",
       "        text-align: right;\n",
       "    }\n",
       "</style>\n",
       "<table border=\"1\" class=\"dataframe\">\n",
       "  <thead>\n",
       "    <tr style=\"text-align: right;\">\n",
       "      <th></th>\n",
       "      <th>rating</th>\n",
       "      <th>number of ratings</th>\n",
       "    </tr>\n",
       "    <tr>\n",
       "      <th>name</th>\n",
       "      <th></th>\n",
       "      <th></th>\n",
       "    </tr>\n",
       "  </thead>\n",
       "  <tbody>\n",
       "    <tr>\n",
       "      <th>.hack//Roots</th>\n",
       "      <td>7.035959</td>\n",
       "      <td>584</td>\n",
       "    </tr>\n",
       "    <tr>\n",
       "      <th>.hack//Sign</th>\n",
       "      <td>7.126305</td>\n",
       "      <td>958</td>\n",
       "    </tr>\n",
       "    <tr>\n",
       "      <th>.hack//Tasogare no Udewa Densetsu</th>\n",
       "      <td>6.691901</td>\n",
       "      <td>568</td>\n",
       "    </tr>\n",
       "    <tr>\n",
       "      <th>009-1</th>\n",
       "      <td>6.442478</td>\n",
       "      <td>113</td>\n",
       "    </tr>\n",
       "    <tr>\n",
       "      <th>07-Ghost</th>\n",
       "      <td>7.250877</td>\n",
       "      <td>1140</td>\n",
       "    </tr>\n",
       "    <tr>\n",
       "      <th>11eyes</th>\n",
       "      <td>6.577082</td>\n",
       "      <td>1693</td>\n",
       "    </tr>\n",
       "    <tr>\n",
       "      <th>12-sai.: Chicchana Mune no Tokimeki</th>\n",
       "      <td>6.844156</td>\n",
       "      <td>77</td>\n",
       "    </tr>\n",
       "    <tr>\n",
       "      <th>21 Emon</th>\n",
       "      <td>5.000000</td>\n",
       "      <td>1</td>\n",
       "    </tr>\n",
       "    <tr>\n",
       "      <th>3 Choume no Tama: Uchi no Tama Shirimasenka?</th>\n",
       "      <td>7.000000</td>\n",
       "      <td>11</td>\n",
       "    </tr>\n",
       "    <tr>\n",
       "      <th>30-sai no Hoken Taiiku</th>\n",
       "      <td>6.911067</td>\n",
       "      <td>506</td>\n",
       "    </tr>\n",
       "  </tbody>\n",
       "</table>\n",
       "</div>"
      ],
      "text/plain": [
       "                                                rating  number of ratings\n",
       "name                                                                     \n",
       ".hack//Roots                                  7.035959                584\n",
       ".hack//Sign                                   7.126305                958\n",
       ".hack//Tasogare no Udewa Densetsu             6.691901                568\n",
       "009-1                                         6.442478                113\n",
       "07-Ghost                                      7.250877               1140\n",
       "11eyes                                        6.577082               1693\n",
       "12-sai.: Chicchana Mune no Tokimeki           6.844156                 77\n",
       "21 Emon                                       5.000000                  1\n",
       "3 Choume no Tama: Uchi no Tama Shirimasenka?  7.000000                 11\n",
       "30-sai no Hoken Taiiku                        6.911067                506"
      ]
     },
     "execution_count": 74,
     "metadata": {},
     "output_type": "execute_result"
    }
   ],
   "source": [
    "ratings = pd.DataFrame(rated_anime.groupby('name')['rating'].mean())\n",
    "ratings['number of ratings'] = pd.DataFrame(rated_anime.groupby('name')['rating'].count())\n",
    "count_rating = rated_anime.groupby('name')['rating'].count().sort_values(ascending=False)\n",
    "ratings.head(10)"
   ]
  },
  {
   "cell_type": "code",
   "execution_count": 75,
   "id": "2e970c46-c215-4905-8fe9-9ed5337e6b25",
   "metadata": {},
   "outputs": [
    {
     "data": {
      "text/plain": [
       "array([[<AxesSubplot:title={'center':'rating'}>]], dtype=object)"
      ]
     },
     "execution_count": 75,
     "metadata": {},
     "output_type": "execute_result"
    },
    {
     "data": {
      "image/png": "[encoded data removed]",
      "text/plain": [
       "<Figure size 432x288 with 1 Axes>"
      ]
     },
     "metadata": {},
     "output_type": "display_data"
    }
   ],
   "source": [
    "# looking at the distribution of ratings\n",
    "ratings.hist('rating')"
   ]
  },
  {
   "cell_type": "code",
   "execution_count": 76,
   "id": "4ad7d80f-5d78-40dc-b4b4-b74b1e8415a9",
   "metadata": {},
   "outputs": [
    {
     "data": {
      "text/plain": [
       "<seaborn.axisgrid.JointGrid at 0x1ed26474310>"
      ]
     },
     "execution_count": 76,
     "metadata": {},
     "output_type": "execute_result"
    },
    {
     "data": {
      "image/png": "[encoded data removed]",
      "text/plain": [
       "<Figure size 432x432 with 3 Axes>"
      ]
     },
     "metadata": {},
     "output_type": "display_data"
    }
   ],
   "source": [
    "sns.jointplot(x='rating',y='number of ratings',data=ratings)"
   ]
  },
  {
   "cell_type": "markdown",
   "id": "6afb9fff-1dd9-445f-89b1-b393bc3c3f6d",
   "metadata": {},
   "source": [
    "From the scatterplot above, we can observe that the more users there are that give a rating for an anime title, there is an increased likelihood that it receives an overall higher rating."
   ]
  },
  {
   "cell_type": "markdown",
   "id": "f95ac42c-9c87-4436-ab00-93519e42f761",
   "metadata": {},
   "source": [
    "### Recommendation System Algorithms and Models"
   ]
  },
  {
   "cell_type": "markdown",
   "id": "ee3992a0-acfa-413a-aea8-368820ea0c2d",
   "metadata": {},
   "source": [
    "Now that we've preprocessed the data from the two data sets and performed a basic EDA, we can go ahead and flesh out the anime recommendation system.  The goal of the recommendation system, as stated previously, is to generate an anime series recommendation based on existing user ratings and a provided title.\n",
    "\n",
    "First we will start off with a simple recommendation system utilizing a pivot table and correlation between user ratings.  We have also imposed a minimum threshold of 1000 ratings for each anime to be considered in our simple recommendation system.  After filtering the data frame with this condition, we can observe that the number of rows in the data frame decreased from 1456837 to 953581 rows."
   ]
  },
  {
   "cell_type": "code",
   "execution_count": 77,
   "id": "ea33cbdd-9b14-4817-b49f-881628358b70",
   "metadata": {},
   "outputs": [],
   "source": [
    "# Keep anime with at least min_ratings number of ratings\n",
    "\n",
    "min_ratings = 1000\n",
    "valid = count_rating[count_rating.apply(lambda x: x >= min_ratings)].index\n",
    "\n",
    "# update data frame\n",
    "anime_rec = rated_anime[rated_anime['name'].apply(lambda x: x in valid)]"
   ]
  },
  {
   "cell_type": "code",
   "execution_count": 78,
   "id": "5f42ba63-f07c-4022-843d-9f900467c846",
   "metadata": {},
   "outputs": [
    {
     "name": "stdout",
     "output_type": "stream",
     "text": [
      "1456837 rows before filtering -> 953581 rows after filtering\n"
     ]
    }
   ],
   "source": [
    "rows_before = rated_anime.shape[0]\n",
    "rows_after = anime_rec.shape[0]\n",
    "print(f'''{rows_before} rows before filtering -> {rows_after} rows after filtering''')"
   ]
  },
  {
   "cell_type": "code",
   "execution_count": 79,
   "id": "3682c5af-2bf1-40fb-b78e-5690bf89ad40",
   "metadata": {},
   "outputs": [
    {
     "data": {
      "text/html": [
       "<div>\n",
       "<style scoped>\n",
       "    .dataframe tbody tr th:only-of-type {\n",
       "        vertical-align: middle;\n",
       "    }\n",
       "\n",
       "    .dataframe tbody tr th {\n",
       "        vertical-align: top;\n",
       "    }\n",
       "\n",
       "    .dataframe thead th {\n",
       "        text-align: right;\n",
       "    }\n",
       "</style>\n",
       "<table border=\"1\" class=\"dataframe\">\n",
       "  <thead>\n",
       "    <tr style=\"text-align: right;\">\n",
       "      <th>name</th>\n",
       "      <th>07-Ghost</th>\n",
       "      <th>11eyes</th>\n",
       "      <th>Aa! Megami-sama! (TV)</th>\n",
       "      <th>Absolute Duo</th>\n",
       "      <th>Accel World</th>\n",
       "      <th>Acchi Kocchi (TV)</th>\n",
       "      <th>Afro Samurai</th>\n",
       "      <th>Air</th>\n",
       "      <th>Air Gear</th>\n",
       "      <th>Akagami no Shirayuki-hime</th>\n",
       "      <th>...</th>\n",
       "      <th>Zero no Tsukaima: Futatsuki no Kishi</th>\n",
       "      <th>Zero no Tsukaima: Princesses no Rondo</th>\n",
       "      <th>Zetman</th>\n",
       "      <th>Zetsuen no Tempest</th>\n",
       "      <th>Zoku Natsume Yuujinchou</th>\n",
       "      <th>Zombie-Loan</th>\n",
       "      <th>ef: A Tale of Melodies.</th>\n",
       "      <th>ef: A Tale of Memories.</th>\n",
       "      <th>xxxHOLiC</th>\n",
       "      <th>xxxHOLiC Kei</th>\n",
       "    </tr>\n",
       "    <tr>\n",
       "      <th>user_id</th>\n",
       "      <th></th>\n",
       "      <th></th>\n",
       "      <th></th>\n",
       "      <th></th>\n",
       "      <th></th>\n",
       "      <th></th>\n",
       "      <th></th>\n",
       "      <th></th>\n",
       "      <th></th>\n",
       "      <th></th>\n",
       "      <th></th>\n",
       "      <th></th>\n",
       "      <th></th>\n",
       "      <th></th>\n",
       "      <th></th>\n",
       "      <th></th>\n",
       "      <th></th>\n",
       "      <th></th>\n",
       "      <th></th>\n",
       "      <th></th>\n",
       "      <th></th>\n",
       "    </tr>\n",
       "  </thead>\n",
       "  <tbody>\n",
       "    <tr>\n",
       "      <th>5</th>\n",
       "      <td>0.0</td>\n",
       "      <td>0.0</td>\n",
       "      <td>0.0</td>\n",
       "      <td>2.0</td>\n",
       "      <td>3.0</td>\n",
       "      <td>0.0</td>\n",
       "      <td>0.0</td>\n",
       "      <td>0.0</td>\n",
       "      <td>0.0</td>\n",
       "      <td>0.0</td>\n",
       "      <td>...</td>\n",
       "      <td>1.0</td>\n",
       "      <td>1.0</td>\n",
       "      <td>0.0</td>\n",
       "      <td>0.0</td>\n",
       "      <td>0.0</td>\n",
       "      <td>0.0</td>\n",
       "      <td>0.0</td>\n",
       "      <td>0.0</td>\n",
       "      <td>2.0</td>\n",
       "      <td>0.0</td>\n",
       "    </tr>\n",
       "    <tr>\n",
       "      <th>7</th>\n",
       "      <td>0.0</td>\n",
       "      <td>0.0</td>\n",
       "      <td>0.0</td>\n",
       "      <td>8.0</td>\n",
       "      <td>8.0</td>\n",
       "      <td>0.0</td>\n",
       "      <td>0.0</td>\n",
       "      <td>0.0</td>\n",
       "      <td>0.0</td>\n",
       "      <td>0.0</td>\n",
       "      <td>...</td>\n",
       "      <td>0.0</td>\n",
       "      <td>0.0</td>\n",
       "      <td>0.0</td>\n",
       "      <td>0.0</td>\n",
       "      <td>0.0</td>\n",
       "      <td>0.0</td>\n",
       "      <td>0.0</td>\n",
       "      <td>0.0</td>\n",
       "      <td>0.0</td>\n",
       "      <td>0.0</td>\n",
       "    </tr>\n",
       "    <tr>\n",
       "      <th>17</th>\n",
       "      <td>0.0</td>\n",
       "      <td>0.0</td>\n",
       "      <td>0.0</td>\n",
       "      <td>0.0</td>\n",
       "      <td>0.0</td>\n",
       "      <td>0.0</td>\n",
       "      <td>0.0</td>\n",
       "      <td>0.0</td>\n",
       "      <td>0.0</td>\n",
       "      <td>0.0</td>\n",
       "      <td>...</td>\n",
       "      <td>0.0</td>\n",
       "      <td>0.0</td>\n",
       "      <td>0.0</td>\n",
       "      <td>0.0</td>\n",
       "      <td>0.0</td>\n",
       "      <td>0.0</td>\n",
       "      <td>0.0</td>\n",
       "      <td>8.0</td>\n",
       "      <td>0.0</td>\n",
       "      <td>0.0</td>\n",
       "    </tr>\n",
       "    <tr>\n",
       "      <th>38</th>\n",
       "      <td>0.0</td>\n",
       "      <td>1.0</td>\n",
       "      <td>0.0</td>\n",
       "      <td>0.0</td>\n",
       "      <td>8.0</td>\n",
       "      <td>0.0</td>\n",
       "      <td>0.0</td>\n",
       "      <td>0.0</td>\n",
       "      <td>0.0</td>\n",
       "      <td>0.0</td>\n",
       "      <td>...</td>\n",
       "      <td>0.0</td>\n",
       "      <td>0.0</td>\n",
       "      <td>0.0</td>\n",
       "      <td>0.0</td>\n",
       "      <td>0.0</td>\n",
       "      <td>0.0</td>\n",
       "      <td>0.0</td>\n",
       "      <td>0.0</td>\n",
       "      <td>0.0</td>\n",
       "      <td>0.0</td>\n",
       "    </tr>\n",
       "    <tr>\n",
       "      <th>43</th>\n",
       "      <td>0.0</td>\n",
       "      <td>9.0</td>\n",
       "      <td>0.0</td>\n",
       "      <td>7.0</td>\n",
       "      <td>8.0</td>\n",
       "      <td>0.0</td>\n",
       "      <td>7.0</td>\n",
       "      <td>0.0</td>\n",
       "      <td>8.0</td>\n",
       "      <td>0.0</td>\n",
       "      <td>...</td>\n",
       "      <td>6.0</td>\n",
       "      <td>0.0</td>\n",
       "      <td>0.0</td>\n",
       "      <td>8.0</td>\n",
       "      <td>0.0</td>\n",
       "      <td>0.0</td>\n",
       "      <td>0.0</td>\n",
       "      <td>0.0</td>\n",
       "      <td>7.0</td>\n",
       "      <td>7.0</td>\n",
       "    </tr>\n",
       "  </tbody>\n",
       "</table>\n",
       "<p>5 rows × 532 columns</p>\n",
       "</div>"
      ],
      "text/plain": [
       "name     07-Ghost  11eyes  Aa! Megami-sama! (TV)  Absolute Duo  Accel World  \\\n",
       "user_id                                                                       \n",
       "5             0.0     0.0                    0.0           2.0          3.0   \n",
       "7             0.0     0.0                    0.0           8.0          8.0   \n",
       "17            0.0     0.0                    0.0           0.0          0.0   \n",
       "38            0.0     1.0                    0.0           0.0          8.0   \n",
       "43            0.0     9.0                    0.0           7.0          8.0   \n",
       "\n",
       "name     Acchi Kocchi (TV)  Afro Samurai  Air  Air Gear  \\\n",
       "user_id                                                   \n",
       "5                      0.0           0.0  0.0       0.0   \n",
       "7                      0.0           0.0  0.0       0.0   \n",
       "17                     0.0           0.0  0.0       0.0   \n",
       "38                     0.0           0.0  0.0       0.0   \n",
       "43                     0.0           7.0  0.0       8.0   \n",
       "\n",
       "name     Akagami no Shirayuki-hime  ...  Zero no Tsukaima: Futatsuki no Kishi  \\\n",
       "user_id                             ...                                         \n",
       "5                              0.0  ...                                   1.0   \n",
       "7                              0.0  ...                                   0.0   \n",
       "17                             0.0  ...                                   0.0   \n",
       "38                             0.0  ...                                   0.0   \n",
       "43                             0.0  ...                                   6.0   \n",
       "\n",
       "name     Zero no Tsukaima: Princesses no Rondo  Zetman  Zetsuen no Tempest  \\\n",
       "user_id                                                                      \n",
       "5                                          1.0     0.0                 0.0   \n",
       "7                                          0.0     0.0                 0.0   \n",
       "17                                         0.0     0.0                 0.0   \n",
       "38                                         0.0     0.0                 0.0   \n",
       "43                                         0.0     0.0                 8.0   \n",
       "\n",
       "name     Zoku Natsume Yuujinchou  Zombie-Loan  ef: A Tale of Melodies.  \\\n",
       "user_id                                                                  \n",
       "5                            0.0          0.0                      0.0   \n",
       "7                            0.0          0.0                      0.0   \n",
       "17                           0.0          0.0                      0.0   \n",
       "38                           0.0          0.0                      0.0   \n",
       "43                           0.0          0.0                      0.0   \n",
       "\n",
       "name     ef: A Tale of Memories.  xxxHOLiC  xxxHOLiC Kei  \n",
       "user_id                                                   \n",
       "5                            0.0       2.0           0.0  \n",
       "7                            0.0       0.0           0.0  \n",
       "17                           8.0       0.0           0.0  \n",
       "38                           0.0       0.0           0.0  \n",
       "43                           0.0       7.0           7.0  \n",
       "\n",
       "[5 rows x 532 columns]"
      ]
     },
     "execution_count": 79,
     "metadata": {},
     "output_type": "execute_result"
    }
   ],
   "source": [
    "# create sparse matrix with user_id as rows and the titles of the anime as columns\n",
    "# each cell contains the rating given by the user for the anime\n",
    "\n",
    "df_rec = anime_rec.pivot_table(index='user_id',columns=['name'],values='rating').fillna(0)\n",
    "df_rec.head()"
   ]
  },
  {
   "cell_type": "code",
   "execution_count": 80,
   "id": "7aae15cf-8fa3-4ea3-81d9-81569bed7c57",
   "metadata": {},
   "outputs": [],
   "source": [
    "# function to find correlation of anime with others\n",
    "\n",
    "def find_correlation(df, name):\n",
    "    similar = df.corrwith(df[name])\n",
    "    similar = pd.DataFrame(similar,columns=['Correlation'])\n",
    "    similar = similar.sort_values(by = 'Correlation', ascending=False)\n",
    "    \n",
    "    return similar"
   ]
  },
  {
   "cell_type": "markdown",
   "id": "fbb911a0-3c0c-4425-a5be-9e21b74ffb41",
   "metadata": {},
   "source": [
    "Now let's test our simple recommendation system based off of correlation using a few examples."
   ]
  },
  {
   "cell_type": "code",
   "execution_count": 81,
   "id": "1c148237-3fc2-4a6f-ba48-7d3b6c9e9cff",
   "metadata": {},
   "outputs": [
    {
     "data": {
      "text/html": [
       "<div>\n",
       "<style scoped>\n",
       "    .dataframe tbody tr th:only-of-type {\n",
       "        vertical-align: middle;\n",
       "    }\n",
       "\n",
       "    .dataframe tbody tr th {\n",
       "        vertical-align: top;\n",
       "    }\n",
       "\n",
       "    .dataframe thead th {\n",
       "        text-align: right;\n",
       "    }\n",
       "</style>\n",
       "<table border=\"1\" class=\"dataframe\">\n",
       "  <thead>\n",
       "    <tr style=\"text-align: right;\">\n",
       "      <th></th>\n",
       "      <th>Correlation</th>\n",
       "    </tr>\n",
       "    <tr>\n",
       "      <th>name</th>\n",
       "      <th></th>\n",
       "    </tr>\n",
       "  </thead>\n",
       "  <tbody>\n",
       "    <tr>\n",
       "      <th>Naruto</th>\n",
       "      <td>1.000000</td>\n",
       "    </tr>\n",
       "    <tr>\n",
       "      <th>Bleach</th>\n",
       "      <td>0.426035</td>\n",
       "    </tr>\n",
       "    <tr>\n",
       "      <th>Fairy Tail</th>\n",
       "      <td>0.307742</td>\n",
       "    </tr>\n",
       "    <tr>\n",
       "      <th>Katekyo Hitman Reborn!</th>\n",
       "      <td>0.280213</td>\n",
       "    </tr>\n",
       "    <tr>\n",
       "      <th>Dragon Ball Z</th>\n",
       "      <td>0.263396</td>\n",
       "    </tr>\n",
       "    <tr>\n",
       "      <th>D.Gray-man</th>\n",
       "      <td>0.249084</td>\n",
       "    </tr>\n",
       "    <tr>\n",
       "      <th>Dragon Ball</th>\n",
       "      <td>0.244696</td>\n",
       "    </tr>\n",
       "    <tr>\n",
       "      <th>Dragon Ball GT</th>\n",
       "      <td>0.235358</td>\n",
       "    </tr>\n",
       "    <tr>\n",
       "      <th>Shijou Saikyou no Deshi Kenichi</th>\n",
       "      <td>0.221060</td>\n",
       "    </tr>\n",
       "    <tr>\n",
       "      <th>Ao no Exorcist</th>\n",
       "      <td>0.217335</td>\n",
       "    </tr>\n",
       "  </tbody>\n",
       "</table>\n",
       "</div>"
      ],
      "text/plain": [
       "                                 Correlation\n",
       "name                                        \n",
       "Naruto                              1.000000\n",
       "Bleach                              0.426035\n",
       "Fairy Tail                          0.307742\n",
       "Katekyo Hitman Reborn!              0.280213\n",
       "Dragon Ball Z                       0.263396\n",
       "D.Gray-man                          0.249084\n",
       "Dragon Ball                         0.244696\n",
       "Dragon Ball GT                      0.235358\n",
       "Shijou Saikyou no Deshi Kenichi     0.221060\n",
       "Ao no Exorcist                      0.217335"
      ]
     },
     "execution_count": 81,
     "metadata": {},
     "output_type": "execute_result"
    }
   ],
   "source": [
    "anime1 = 'Naruto'\n",
    "\n",
    "# find recommendation for user input of Naruto\n",
    "find_correlation(df_rec, anime1).head(10)"
   ]
  },
  {
   "cell_type": "code",
   "execution_count": 82,
   "id": "fa9897f3-64be-47ac-97f7-6736b1b87609",
   "metadata": {},
   "outputs": [
    {
     "data": {
      "text/html": [
       "<div>\n",
       "<style scoped>\n",
       "    .dataframe tbody tr th:only-of-type {\n",
       "        vertical-align: middle;\n",
       "    }\n",
       "\n",
       "    .dataframe tbody tr th {\n",
       "        vertical-align: top;\n",
       "    }\n",
       "\n",
       "    .dataframe thead th {\n",
       "        text-align: right;\n",
       "    }\n",
       "</style>\n",
       "<table border=\"1\" class=\"dataframe\">\n",
       "  <thead>\n",
       "    <tr style=\"text-align: right;\">\n",
       "      <th></th>\n",
       "      <th>Correlation</th>\n",
       "    </tr>\n",
       "    <tr>\n",
       "      <th>name</th>\n",
       "      <th></th>\n",
       "    </tr>\n",
       "  </thead>\n",
       "  <tbody>\n",
       "    <tr>\n",
       "      <th>Psycho-Pass</th>\n",
       "      <td>1.000000</td>\n",
       "    </tr>\n",
       "    <tr>\n",
       "      <th>Psycho-Pass 2</th>\n",
       "      <td>0.624337</td>\n",
       "    </tr>\n",
       "    <tr>\n",
       "      <th>Zankyou no Terror</th>\n",
       "      <td>0.383839</td>\n",
       "    </tr>\n",
       "    <tr>\n",
       "      <th>Death Parade</th>\n",
       "      <td>0.341469</td>\n",
       "    </tr>\n",
       "    <tr>\n",
       "      <th>Shinsekai yori</th>\n",
       "      <td>0.335916</td>\n",
       "    </tr>\n",
       "    <tr>\n",
       "      <th>Shingeki no Kyojin</th>\n",
       "      <td>0.309546</td>\n",
       "    </tr>\n",
       "    <tr>\n",
       "      <th>Zetsuen no Tempest</th>\n",
       "      <td>0.307261</td>\n",
       "    </tr>\n",
       "    <tr>\n",
       "      <th>Steins;Gate</th>\n",
       "      <td>0.295788</td>\n",
       "    </tr>\n",
       "    <tr>\n",
       "      <th>Kiseijuu: Sei no Kakuritsu</th>\n",
       "      <td>0.292112</td>\n",
       "    </tr>\n",
       "    <tr>\n",
       "      <th>Noragami</th>\n",
       "      <td>0.286894</td>\n",
       "    </tr>\n",
       "  </tbody>\n",
       "</table>\n",
       "</div>"
      ],
      "text/plain": [
       "                            Correlation\n",
       "name                                   \n",
       "Psycho-Pass                    1.000000\n",
       "Psycho-Pass 2                  0.624337\n",
       "Zankyou no Terror              0.383839\n",
       "Death Parade                   0.341469\n",
       "Shinsekai yori                 0.335916\n",
       "Shingeki no Kyojin             0.309546\n",
       "Zetsuen no Tempest             0.307261\n",
       "Steins;Gate                    0.295788\n",
       "Kiseijuu: Sei no Kakuritsu     0.292112\n",
       "Noragami                       0.286894"
      ]
     },
     "execution_count": 82,
     "metadata": {},
     "output_type": "execute_result"
    }
   ],
   "source": [
    "anime2 = 'Psycho-Pass'\n",
    "\n",
    "# find recommendation for user input of Psycho-Pass\n",
    "find_correlation(df_rec, anime2).head(10)"
   ]
  },
  {
   "cell_type": "code",
   "execution_count": 83,
   "id": "baa84912-667c-4f51-81ec-049f3c09c831",
   "metadata": {},
   "outputs": [
    {
     "data": {
      "text/html": [
       "<div>\n",
       "<style scoped>\n",
       "    .dataframe tbody tr th:only-of-type {\n",
       "        vertical-align: middle;\n",
       "    }\n",
       "\n",
       "    .dataframe tbody tr th {\n",
       "        vertical-align: top;\n",
       "    }\n",
       "\n",
       "    .dataframe thead th {\n",
       "        text-align: right;\n",
       "    }\n",
       "</style>\n",
       "<table border=\"1\" class=\"dataframe\">\n",
       "  <thead>\n",
       "    <tr style=\"text-align: right;\">\n",
       "      <th></th>\n",
       "      <th>Correlation</th>\n",
       "    </tr>\n",
       "    <tr>\n",
       "      <th>name</th>\n",
       "      <th></th>\n",
       "    </tr>\n",
       "  </thead>\n",
       "  <tbody>\n",
       "    <tr>\n",
       "      <th>Haikyuu!!</th>\n",
       "      <td>1.000000</td>\n",
       "    </tr>\n",
       "    <tr>\n",
       "      <th>Haikyuu!! Second Season</th>\n",
       "      <td>0.761740</td>\n",
       "    </tr>\n",
       "    <tr>\n",
       "      <th>Kuroko no Basket 2nd Season</th>\n",
       "      <td>0.569157</td>\n",
       "    </tr>\n",
       "    <tr>\n",
       "      <th>Kuroko no Basket</th>\n",
       "      <td>0.537163</td>\n",
       "    </tr>\n",
       "    <tr>\n",
       "      <th>Kuroko no Basket 3rd Season</th>\n",
       "      <td>0.526450</td>\n",
       "    </tr>\n",
       "    <tr>\n",
       "      <th>Free!</th>\n",
       "      <td>0.359566</td>\n",
       "    </tr>\n",
       "    <tr>\n",
       "      <th>Barakamon</th>\n",
       "      <td>0.336451</td>\n",
       "    </tr>\n",
       "    <tr>\n",
       "      <th>Shigatsu wa Kimi no Uso</th>\n",
       "      <td>0.327876</td>\n",
       "    </tr>\n",
       "    <tr>\n",
       "      <th>Shokugeki no Souma</th>\n",
       "      <td>0.320285</td>\n",
       "    </tr>\n",
       "    <tr>\n",
       "      <th>Tokyo Ghoul</th>\n",
       "      <td>0.307057</td>\n",
       "    </tr>\n",
       "  </tbody>\n",
       "</table>\n",
       "</div>"
      ],
      "text/plain": [
       "                             Correlation\n",
       "name                                    \n",
       "Haikyuu!!                       1.000000\n",
       "Haikyuu!! Second Season         0.761740\n",
       "Kuroko no Basket 2nd Season     0.569157\n",
       "Kuroko no Basket                0.537163\n",
       "Kuroko no Basket 3rd Season     0.526450\n",
       "Free!                           0.359566\n",
       "Barakamon                       0.336451\n",
       "Shigatsu wa Kimi no Uso         0.327876\n",
       "Shokugeki no Souma              0.320285\n",
       "Tokyo Ghoul                     0.307057"
      ]
     },
     "execution_count": 83,
     "metadata": {},
     "output_type": "execute_result"
    }
   ],
   "source": [
    "anime3 = 'Haikyuu!!'\n",
    "\n",
    "# find recommendation for user input of Haikyu!!\n",
    "find_correlation(df_rec, anime3).head(10)"
   ]
  },
  {
   "cell_type": "code",
   "execution_count": 84,
   "id": "39670213-cac9-4ef2-b25c-1b01f6f57c66",
   "metadata": {},
   "outputs": [
    {
     "data": {
      "image/png": "[encoded data removed]",
      "text/plain": [
       "<Figure size 432x288 with 1 Axes>"
      ]
     },
     "metadata": {},
     "output_type": "display_data"
    }
   ],
   "source": [
    "# This code sets up genres and ratings in a singular database and aggregates to the genre level\n",
    "# We wanted to get a naive look at if there is any large variances based on the genre alone \n",
    "# in terms of rating the show higher or lower.\n",
    "genredf = anime\n",
    "genredf['rating'] = genredf['rating'].apply(lambda x: np.nan if x == -1 else x)\n",
    "genrerating = genredf[['genre','rating']].values.tolist()\n",
    "genreratingdict = {}\n",
    "genrecount = {}\n",
    "for i in genrerating:\n",
    "    if str(i[0]) == 'nan':\n",
    "        continue\n",
    "    if str(i[1]) == 'nan':\n",
    "        continue\n",
    "    temp = [i[0].split(', '),i[1]]\n",
    "    for j in temp[0]:\n",
    "        if j not in genreratingdict:\n",
    "            genreratingdict[j] = float(temp[1])\n",
    "            genrecount[j] = 1\n",
    "        else:\n",
    "            genreratingdict[j] += float(temp[1])\n",
    "            genrecount[j] += 1\n",
    "    temp = []\n",
    "\n",
    "output = []\n",
    "for key, value in genreratingdict.items():\n",
    "    temp = [key, value/float(genrecount.get(key))]\n",
    "    output.append(temp)\n",
    "\n",
    "genres = pd.DataFrame(output)\n",
    "genres.columns = ['genre', 'rating']\n",
    "\n",
    "plt.scatter(x=genres['genre'], y=genres['rating'])\n",
    "plt.show()"
   ]
  },
  {
   "cell_type": "markdown",
   "id": "702436b4-e93a-469c-953a-35a132b2dd40",
   "metadata": {},
   "source": [
    "### Modeling and Analysis of Classification based Machine Learning Models for Anime Recommendation"
   ]
  },
  {
   "cell_type": "markdown",
   "id": "8ef130d4-daf3-4a13-9afb-feda868dd1ea",
   "metadata": {},
   "source": [
    "With this code below we are trying to see if we can utilize classification models (Decision Tree and Random Forest) that will predict with a high level of confidence some recommendations of shows that someone would watch based on knowing a few shows that they like."
   ]
  },
  {
   "cell_type": "markdown",
   "id": "5770e263-9887-4c79-a607-b97a2998466c",
   "metadata": {},
   "source": [
    "### Machine Learning Implementation"
   ]
  },
  {
   "cell_type": "markdown",
   "id": "7ee0475c-dd90-4cfb-b8aa-0296fa4fd3eb",
   "metadata": {},
   "source": [
    "The problem that we are attempting to solve is to predict a show that the user will enjoy with confidence. If you are to look at enjoyment for its face value there are only two sides of the coin, satisfaction and dissatisfaction. When you have a decision in machine learning that only has two measurable outcomes we call that a classification problem. Below is an implementation of two different types of classification algorithms."
   ]
  },
  {
   "cell_type": "code",
   "execution_count": 85,
   "id": "6d754657-29f4-46d0-b72d-8d5e25d62a9f",
   "metadata": {},
   "outputs": [
    {
     "data": {
      "text/html": [
       "<div>\n",
       "<style scoped>\n",
       "    .dataframe tbody tr th:only-of-type {\n",
       "        vertical-align: middle;\n",
       "    }\n",
       "\n",
       "    .dataframe tbody tr th {\n",
       "        vertical-align: top;\n",
       "    }\n",
       "\n",
       "    .dataframe thead th {\n",
       "        text-align: right;\n",
       "    }\n",
       "</style>\n",
       "<table border=\"1\" class=\"dataframe\">\n",
       "  <thead>\n",
       "    <tr style=\"text-align: right;\">\n",
       "      <th></th>\n",
       "      <th>user_id</th>\n",
       "      <th>anime_id</th>\n",
       "      <th>rating</th>\n",
       "      <th>episodes</th>\n",
       "      <th>members</th>\n",
       "      <th>Action</th>\n",
       "      <th>Adventure</th>\n",
       "      <th>Cars</th>\n",
       "      <th>Comedy</th>\n",
       "      <th>Dementia</th>\n",
       "      <th>...</th>\n",
       "      <th>Shounen</th>\n",
       "      <th>Shounen Ai</th>\n",
       "      <th>Slice of Life</th>\n",
       "      <th>Space</th>\n",
       "      <th>Sports</th>\n",
       "      <th>Super Power</th>\n",
       "      <th>Supernatural</th>\n",
       "      <th>Thriller</th>\n",
       "      <th>Vampire</th>\n",
       "      <th>recommendation</th>\n",
       "    </tr>\n",
       "  </thead>\n",
       "  <tbody>\n",
       "    <tr>\n",
       "      <th>0</th>\n",
       "      <td>1</td>\n",
       "      <td>8074</td>\n",
       "      <td>10</td>\n",
       "      <td>12</td>\n",
       "      <td>535892</td>\n",
       "      <td>1</td>\n",
       "      <td>0</td>\n",
       "      <td>0</td>\n",
       "      <td>0</td>\n",
       "      <td>0</td>\n",
       "      <td>...</td>\n",
       "      <td>0</td>\n",
       "      <td>0</td>\n",
       "      <td>0</td>\n",
       "      <td>0</td>\n",
       "      <td>0</td>\n",
       "      <td>0</td>\n",
       "      <td>1</td>\n",
       "      <td>0</td>\n",
       "      <td>0</td>\n",
       "      <td>1</td>\n",
       "    </tr>\n",
       "    <tr>\n",
       "      <th>1</th>\n",
       "      <td>3</td>\n",
       "      <td>8074</td>\n",
       "      <td>6</td>\n",
       "      <td>12</td>\n",
       "      <td>535892</td>\n",
       "      <td>1</td>\n",
       "      <td>0</td>\n",
       "      <td>0</td>\n",
       "      <td>0</td>\n",
       "      <td>0</td>\n",
       "      <td>...</td>\n",
       "      <td>0</td>\n",
       "      <td>0</td>\n",
       "      <td>0</td>\n",
       "      <td>0</td>\n",
       "      <td>0</td>\n",
       "      <td>0</td>\n",
       "      <td>1</td>\n",
       "      <td>0</td>\n",
       "      <td>0</td>\n",
       "      <td>0</td>\n",
       "    </tr>\n",
       "    <tr>\n",
       "      <th>2</th>\n",
       "      <td>5</td>\n",
       "      <td>8074</td>\n",
       "      <td>2</td>\n",
       "      <td>12</td>\n",
       "      <td>535892</td>\n",
       "      <td>1</td>\n",
       "      <td>0</td>\n",
       "      <td>0</td>\n",
       "      <td>0</td>\n",
       "      <td>0</td>\n",
       "      <td>...</td>\n",
       "      <td>0</td>\n",
       "      <td>0</td>\n",
       "      <td>0</td>\n",
       "      <td>0</td>\n",
       "      <td>0</td>\n",
       "      <td>0</td>\n",
       "      <td>1</td>\n",
       "      <td>0</td>\n",
       "      <td>0</td>\n",
       "      <td>0</td>\n",
       "    </tr>\n",
       "    <tr>\n",
       "      <th>3</th>\n",
       "      <td>12</td>\n",
       "      <td>8074</td>\n",
       "      <td>6</td>\n",
       "      <td>12</td>\n",
       "      <td>535892</td>\n",
       "      <td>1</td>\n",
       "      <td>0</td>\n",
       "      <td>0</td>\n",
       "      <td>0</td>\n",
       "      <td>0</td>\n",
       "      <td>...</td>\n",
       "      <td>0</td>\n",
       "      <td>0</td>\n",
       "      <td>0</td>\n",
       "      <td>0</td>\n",
       "      <td>0</td>\n",
       "      <td>0</td>\n",
       "      <td>1</td>\n",
       "      <td>0</td>\n",
       "      <td>0</td>\n",
       "      <td>0</td>\n",
       "    </tr>\n",
       "    <tr>\n",
       "      <th>4</th>\n",
       "      <td>14</td>\n",
       "      <td>8074</td>\n",
       "      <td>6</td>\n",
       "      <td>12</td>\n",
       "      <td>535892</td>\n",
       "      <td>1</td>\n",
       "      <td>0</td>\n",
       "      <td>0</td>\n",
       "      <td>0</td>\n",
       "      <td>0</td>\n",
       "      <td>...</td>\n",
       "      <td>0</td>\n",
       "      <td>0</td>\n",
       "      <td>0</td>\n",
       "      <td>0</td>\n",
       "      <td>0</td>\n",
       "      <td>0</td>\n",
       "      <td>1</td>\n",
       "      <td>0</td>\n",
       "      <td>0</td>\n",
       "      <td>0</td>\n",
       "    </tr>\n",
       "    <tr>\n",
       "      <th>...</th>\n",
       "      <td>...</td>\n",
       "      <td>...</td>\n",
       "      <td>...</td>\n",
       "      <td>...</td>\n",
       "      <td>...</td>\n",
       "      <td>...</td>\n",
       "      <td>...</td>\n",
       "      <td>...</td>\n",
       "      <td>...</td>\n",
       "      <td>...</td>\n",
       "      <td>...</td>\n",
       "      <td>...</td>\n",
       "      <td>...</td>\n",
       "      <td>...</td>\n",
       "      <td>...</td>\n",
       "      <td>...</td>\n",
       "      <td>...</td>\n",
       "      <td>...</td>\n",
       "      <td>...</td>\n",
       "      <td>...</td>\n",
       "      <td>...</td>\n",
       "    </tr>\n",
       "    <tr>\n",
       "      <th>4364288</th>\n",
       "      <td>66449</td>\n",
       "      <td>3164</td>\n",
       "      <td>8</td>\n",
       "      <td>13</td>\n",
       "      <td>260</td>\n",
       "      <td>0</td>\n",
       "      <td>0</td>\n",
       "      <td>0</td>\n",
       "      <td>1</td>\n",
       "      <td>0</td>\n",
       "      <td>...</td>\n",
       "      <td>0</td>\n",
       "      <td>0</td>\n",
       "      <td>0</td>\n",
       "      <td>0</td>\n",
       "      <td>0</td>\n",
       "      <td>0</td>\n",
       "      <td>0</td>\n",
       "      <td>0</td>\n",
       "      <td>0</td>\n",
       "      <td>1</td>\n",
       "    </tr>\n",
       "    <tr>\n",
       "      <th>4364289</th>\n",
       "      <td>67836</td>\n",
       "      <td>8123</td>\n",
       "      <td>8</td>\n",
       "      <td>151</td>\n",
       "      <td>536</td>\n",
       "      <td>0</td>\n",
       "      <td>0</td>\n",
       "      <td>0</td>\n",
       "      <td>1</td>\n",
       "      <td>0</td>\n",
       "      <td>...</td>\n",
       "      <td>0</td>\n",
       "      <td>0</td>\n",
       "      <td>1</td>\n",
       "      <td>0</td>\n",
       "      <td>0</td>\n",
       "      <td>0</td>\n",
       "      <td>0</td>\n",
       "      <td>0</td>\n",
       "      <td>0</td>\n",
       "      <td>1</td>\n",
       "    </tr>\n",
       "    <tr>\n",
       "      <th>4364290</th>\n",
       "      <td>67836</td>\n",
       "      <td>12091</td>\n",
       "      <td>7</td>\n",
       "      <td>25</td>\n",
       "      <td>199</td>\n",
       "      <td>1</td>\n",
       "      <td>1</td>\n",
       "      <td>0</td>\n",
       "      <td>0</td>\n",
       "      <td>0</td>\n",
       "      <td>...</td>\n",
       "      <td>0</td>\n",
       "      <td>0</td>\n",
       "      <td>0</td>\n",
       "      <td>1</td>\n",
       "      <td>0</td>\n",
       "      <td>0</td>\n",
       "      <td>0</td>\n",
       "      <td>0</td>\n",
       "      <td>0</td>\n",
       "      <td>1</td>\n",
       "    </tr>\n",
       "    <tr>\n",
       "      <th>4364291</th>\n",
       "      <td>68458</td>\n",
       "      <td>8478</td>\n",
       "      <td>9</td>\n",
       "      <td>20</td>\n",
       "      <td>151</td>\n",
       "      <td>0</td>\n",
       "      <td>0</td>\n",
       "      <td>0</td>\n",
       "      <td>0</td>\n",
       "      <td>0</td>\n",
       "      <td>...</td>\n",
       "      <td>0</td>\n",
       "      <td>0</td>\n",
       "      <td>0</td>\n",
       "      <td>0</td>\n",
       "      <td>0</td>\n",
       "      <td>0</td>\n",
       "      <td>0</td>\n",
       "      <td>0</td>\n",
       "      <td>0</td>\n",
       "      <td>1</td>\n",
       "    </tr>\n",
       "    <tr>\n",
       "      <th>4364292</th>\n",
       "      <td>69426</td>\n",
       "      <td>5628</td>\n",
       "      <td>5</td>\n",
       "      <td>39</td>\n",
       "      <td>314</td>\n",
       "      <td>0</td>\n",
       "      <td>0</td>\n",
       "      <td>0</td>\n",
       "      <td>1</td>\n",
       "      <td>0</td>\n",
       "      <td>...</td>\n",
       "      <td>0</td>\n",
       "      <td>0</td>\n",
       "      <td>0</td>\n",
       "      <td>1</td>\n",
       "      <td>0</td>\n",
       "      <td>0</td>\n",
       "      <td>0</td>\n",
       "      <td>0</td>\n",
       "      <td>0</td>\n",
       "      <td>0</td>\n",
       "    </tr>\n",
       "  </tbody>\n",
       "</table>\n",
       "<p>4364293 rows × 46 columns</p>\n",
       "</div>"
      ],
      "text/plain": [
       "         user_id  anime_id  rating  episodes  members  Action  Adventure  \\\n",
       "0              1      8074      10        12   535892       1          0   \n",
       "1              3      8074       6        12   535892       1          0   \n",
       "2              5      8074       2        12   535892       1          0   \n",
       "3             12      8074       6        12   535892       1          0   \n",
       "4             14      8074       6        12   535892       1          0   \n",
       "...          ...       ...     ...       ...      ...     ...        ...   \n",
       "4364288    66449      3164       8        13      260       0          0   \n",
       "4364289    67836      8123       8       151      536       0          0   \n",
       "4364290    67836     12091       7        25      199       1          1   \n",
       "4364291    68458      8478       9        20      151       0          0   \n",
       "4364292    69426      5628       5        39      314       0          0   \n",
       "\n",
       "         Cars  Comedy  Dementia  ...  Shounen  Shounen Ai  Slice of Life  \\\n",
       "0           0       0         0  ...        0           0              0   \n",
       "1           0       0         0  ...        0           0              0   \n",
       "2           0       0         0  ...        0           0              0   \n",
       "3           0       0         0  ...        0           0              0   \n",
       "4           0       0         0  ...        0           0              0   \n",
       "...       ...     ...       ...  ...      ...         ...            ...   \n",
       "4364288     0       1         0  ...        0           0              0   \n",
       "4364289     0       1         0  ...        0           0              1   \n",
       "4364290     0       0         0  ...        0           0              0   \n",
       "4364291     0       0         0  ...        0           0              0   \n",
       "4364292     0       1         0  ...        0           0              0   \n",
       "\n",
       "         Space  Sports  Super Power  Supernatural  Thriller  Vampire  \\\n",
       "0            0       0            0             1         0        0   \n",
       "1            0       0            0             1         0        0   \n",
       "2            0       0            0             1         0        0   \n",
       "3            0       0            0             1         0        0   \n",
       "4            0       0            0             1         0        0   \n",
       "...        ...     ...          ...           ...       ...      ...   \n",
       "4364288      0       0            0             0         0        0   \n",
       "4364289      0       0            0             0         0        0   \n",
       "4364290      1       0            0             0         0        0   \n",
       "4364291      0       0            0             0         0        0   \n",
       "4364292      1       0            0             0         0        0   \n",
       "\n",
       "         recommendation  \n",
       "0                     1  \n",
       "1                     0  \n",
       "2                     0  \n",
       "3                     0  \n",
       "4                     0  \n",
       "...                 ...  \n",
       "4364288               1  \n",
       "4364289               1  \n",
       "4364290               1  \n",
       "4364291               1  \n",
       "4364292               0  \n",
       "\n",
       "[4364293 rows x 46 columns]"
      ]
     },
     "execution_count": 85,
     "metadata": {},
     "output_type": "execute_result"
    }
   ],
   "source": [
    "# function sets 0 for false and 1 for true in a new row for the machine learning classification\n",
    "def calc(row):\n",
    "    if row['rating'] >=7:\n",
    "        return 1\n",
    "    else:\n",
    "        return 0\n",
    "\n",
    "#setup, prep and cleaning of data for model fitting\n",
    "genredf = pd.read_csv('anime.csv')\n",
    "ratingsdf = pd.read_csv('rating.csv').dropna()\n",
    "ratingsdf = ratingsdf[ratingsdf['rating'] != -1]\n",
    "genredf = genredf[genredf.type == 'TV']\n",
    "genredf1 = genredf.drop(columns = ['name', 'type', 'episodes', 'rating', 'members', 'anime_id'])\n",
    "res = genredf.join(genredf1['genre'].str.split(', ').str.join('|').str.get_dummies())\n",
    "res = res.drop(columns = ['genre', 'type', 'name', 'rating'])\n",
    "res = res[res.episodes.apply(lambda x: x.isnumeric())]\n",
    "res = res.astype({'episodes': 'int64'})\n",
    "res = res.dropna()\n",
    "res = ratingsdf.merge(res, left_on='anime_id', right_on='anime_id')\n",
    "res['recommendation'] = res.apply(calc, axis=1)\n",
    "res"
   ]
  },
  {
   "cell_type": "code",
   "execution_count": 86,
   "id": "0c13cc2b-2362-40a3-91ee-31602bd23414",
   "metadata": {},
   "outputs": [
    {
     "data": {
      "text/html": [
       "<div>\n",
       "<style scoped>\n",
       "    .dataframe tbody tr th:only-of-type {\n",
       "        vertical-align: middle;\n",
       "    }\n",
       "\n",
       "    .dataframe tbody tr th {\n",
       "        vertical-align: top;\n",
       "    }\n",
       "\n",
       "    .dataframe thead th {\n",
       "        text-align: right;\n",
       "    }\n",
       "</style>\n",
       "<table border=\"1\" class=\"dataframe\">\n",
       "  <thead>\n",
       "    <tr style=\"text-align: right;\">\n",
       "      <th></th>\n",
       "      <th>episodes</th>\n",
       "      <th>members</th>\n",
       "      <th>Action</th>\n",
       "      <th>Adventure</th>\n",
       "      <th>Cars</th>\n",
       "      <th>Comedy</th>\n",
       "      <th>Dementia</th>\n",
       "      <th>Demons</th>\n",
       "      <th>Drama</th>\n",
       "      <th>Ecchi</th>\n",
       "      <th>...</th>\n",
       "      <th>Shoujo Ai</th>\n",
       "      <th>Shounen</th>\n",
       "      <th>Shounen Ai</th>\n",
       "      <th>Slice of Life</th>\n",
       "      <th>Space</th>\n",
       "      <th>Sports</th>\n",
       "      <th>Super Power</th>\n",
       "      <th>Supernatural</th>\n",
       "      <th>Thriller</th>\n",
       "      <th>Vampire</th>\n",
       "    </tr>\n",
       "  </thead>\n",
       "  <tbody>\n",
       "    <tr>\n",
       "      <th>0</th>\n",
       "      <td>12</td>\n",
       "      <td>535892</td>\n",
       "      <td>1</td>\n",
       "      <td>0</td>\n",
       "      <td>0</td>\n",
       "      <td>0</td>\n",
       "      <td>0</td>\n",
       "      <td>0</td>\n",
       "      <td>0</td>\n",
       "      <td>1</td>\n",
       "      <td>...</td>\n",
       "      <td>0</td>\n",
       "      <td>0</td>\n",
       "      <td>0</td>\n",
       "      <td>0</td>\n",
       "      <td>0</td>\n",
       "      <td>0</td>\n",
       "      <td>0</td>\n",
       "      <td>1</td>\n",
       "      <td>0</td>\n",
       "      <td>0</td>\n",
       "    </tr>\n",
       "    <tr>\n",
       "      <th>1</th>\n",
       "      <td>12</td>\n",
       "      <td>535892</td>\n",
       "      <td>1</td>\n",
       "      <td>0</td>\n",
       "      <td>0</td>\n",
       "      <td>0</td>\n",
       "      <td>0</td>\n",
       "      <td>0</td>\n",
       "      <td>0</td>\n",
       "      <td>1</td>\n",
       "      <td>...</td>\n",
       "      <td>0</td>\n",
       "      <td>0</td>\n",
       "      <td>0</td>\n",
       "      <td>0</td>\n",
       "      <td>0</td>\n",
       "      <td>0</td>\n",
       "      <td>0</td>\n",
       "      <td>1</td>\n",
       "      <td>0</td>\n",
       "      <td>0</td>\n",
       "    </tr>\n",
       "    <tr>\n",
       "      <th>2</th>\n",
       "      <td>12</td>\n",
       "      <td>535892</td>\n",
       "      <td>1</td>\n",
       "      <td>0</td>\n",
       "      <td>0</td>\n",
       "      <td>0</td>\n",
       "      <td>0</td>\n",
       "      <td>0</td>\n",
       "      <td>0</td>\n",
       "      <td>1</td>\n",
       "      <td>...</td>\n",
       "      <td>0</td>\n",
       "      <td>0</td>\n",
       "      <td>0</td>\n",
       "      <td>0</td>\n",
       "      <td>0</td>\n",
       "      <td>0</td>\n",
       "      <td>0</td>\n",
       "      <td>1</td>\n",
       "      <td>0</td>\n",
       "      <td>0</td>\n",
       "    </tr>\n",
       "    <tr>\n",
       "      <th>3</th>\n",
       "      <td>12</td>\n",
       "      <td>535892</td>\n",
       "      <td>1</td>\n",
       "      <td>0</td>\n",
       "      <td>0</td>\n",
       "      <td>0</td>\n",
       "      <td>0</td>\n",
       "      <td>0</td>\n",
       "      <td>0</td>\n",
       "      <td>1</td>\n",
       "      <td>...</td>\n",
       "      <td>0</td>\n",
       "      <td>0</td>\n",
       "      <td>0</td>\n",
       "      <td>0</td>\n",
       "      <td>0</td>\n",
       "      <td>0</td>\n",
       "      <td>0</td>\n",
       "      <td>1</td>\n",
       "      <td>0</td>\n",
       "      <td>0</td>\n",
       "    </tr>\n",
       "    <tr>\n",
       "      <th>4</th>\n",
       "      <td>12</td>\n",
       "      <td>535892</td>\n",
       "      <td>1</td>\n",
       "      <td>0</td>\n",
       "      <td>0</td>\n",
       "      <td>0</td>\n",
       "      <td>0</td>\n",
       "      <td>0</td>\n",
       "      <td>0</td>\n",
       "      <td>1</td>\n",
       "      <td>...</td>\n",
       "      <td>0</td>\n",
       "      <td>0</td>\n",
       "      <td>0</td>\n",
       "      <td>0</td>\n",
       "      <td>0</td>\n",
       "      <td>0</td>\n",
       "      <td>0</td>\n",
       "      <td>1</td>\n",
       "      <td>0</td>\n",
       "      <td>0</td>\n",
       "    </tr>\n",
       "    <tr>\n",
       "      <th>...</th>\n",
       "      <td>...</td>\n",
       "      <td>...</td>\n",
       "      <td>...</td>\n",
       "      <td>...</td>\n",
       "      <td>...</td>\n",
       "      <td>...</td>\n",
       "      <td>...</td>\n",
       "      <td>...</td>\n",
       "      <td>...</td>\n",
       "      <td>...</td>\n",
       "      <td>...</td>\n",
       "      <td>...</td>\n",
       "      <td>...</td>\n",
       "      <td>...</td>\n",
       "      <td>...</td>\n",
       "      <td>...</td>\n",
       "      <td>...</td>\n",
       "      <td>...</td>\n",
       "      <td>...</td>\n",
       "      <td>...</td>\n",
       "      <td>...</td>\n",
       "    </tr>\n",
       "    <tr>\n",
       "      <th>4364288</th>\n",
       "      <td>13</td>\n",
       "      <td>260</td>\n",
       "      <td>0</td>\n",
       "      <td>0</td>\n",
       "      <td>0</td>\n",
       "      <td>1</td>\n",
       "      <td>0</td>\n",
       "      <td>0</td>\n",
       "      <td>0</td>\n",
       "      <td>0</td>\n",
       "      <td>...</td>\n",
       "      <td>0</td>\n",
       "      <td>0</td>\n",
       "      <td>0</td>\n",
       "      <td>0</td>\n",
       "      <td>0</td>\n",
       "      <td>0</td>\n",
       "      <td>0</td>\n",
       "      <td>0</td>\n",
       "      <td>0</td>\n",
       "      <td>0</td>\n",
       "    </tr>\n",
       "    <tr>\n",
       "      <th>4364289</th>\n",
       "      <td>151</td>\n",
       "      <td>536</td>\n",
       "      <td>0</td>\n",
       "      <td>0</td>\n",
       "      <td>0</td>\n",
       "      <td>1</td>\n",
       "      <td>0</td>\n",
       "      <td>0</td>\n",
       "      <td>0</td>\n",
       "      <td>0</td>\n",
       "      <td>...</td>\n",
       "      <td>0</td>\n",
       "      <td>0</td>\n",
       "      <td>0</td>\n",
       "      <td>1</td>\n",
       "      <td>0</td>\n",
       "      <td>0</td>\n",
       "      <td>0</td>\n",
       "      <td>0</td>\n",
       "      <td>0</td>\n",
       "      <td>0</td>\n",
       "    </tr>\n",
       "    <tr>\n",
       "      <th>4364290</th>\n",
       "      <td>25</td>\n",
       "      <td>199</td>\n",
       "      <td>1</td>\n",
       "      <td>1</td>\n",
       "      <td>0</td>\n",
       "      <td>0</td>\n",
       "      <td>0</td>\n",
       "      <td>0</td>\n",
       "      <td>0</td>\n",
       "      <td>0</td>\n",
       "      <td>...</td>\n",
       "      <td>0</td>\n",
       "      <td>0</td>\n",
       "      <td>0</td>\n",
       "      <td>0</td>\n",
       "      <td>1</td>\n",
       "      <td>0</td>\n",
       "      <td>0</td>\n",
       "      <td>0</td>\n",
       "      <td>0</td>\n",
       "      <td>0</td>\n",
       "    </tr>\n",
       "    <tr>\n",
       "      <th>4364291</th>\n",
       "      <td>20</td>\n",
       "      <td>151</td>\n",
       "      <td>0</td>\n",
       "      <td>0</td>\n",
       "      <td>0</td>\n",
       "      <td>0</td>\n",
       "      <td>0</td>\n",
       "      <td>0</td>\n",
       "      <td>0</td>\n",
       "      <td>0</td>\n",
       "      <td>...</td>\n",
       "      <td>0</td>\n",
       "      <td>0</td>\n",
       "      <td>0</td>\n",
       "      <td>0</td>\n",
       "      <td>0</td>\n",
       "      <td>0</td>\n",
       "      <td>0</td>\n",
       "      <td>0</td>\n",
       "      <td>0</td>\n",
       "      <td>0</td>\n",
       "    </tr>\n",
       "    <tr>\n",
       "      <th>4364292</th>\n",
       "      <td>39</td>\n",
       "      <td>314</td>\n",
       "      <td>0</td>\n",
       "      <td>0</td>\n",
       "      <td>0</td>\n",
       "      <td>1</td>\n",
       "      <td>0</td>\n",
       "      <td>0</td>\n",
       "      <td>0</td>\n",
       "      <td>0</td>\n",
       "      <td>...</td>\n",
       "      <td>0</td>\n",
       "      <td>0</td>\n",
       "      <td>0</td>\n",
       "      <td>0</td>\n",
       "      <td>1</td>\n",
       "      <td>0</td>\n",
       "      <td>0</td>\n",
       "      <td>0</td>\n",
       "      <td>0</td>\n",
       "      <td>0</td>\n",
       "    </tr>\n",
       "  </tbody>\n",
       "</table>\n",
       "<p>4364293 rows × 42 columns</p>\n",
       "</div>"
      ],
      "text/plain": [
       "         episodes  members  Action  Adventure  Cars  Comedy  Dementia  Demons  \\\n",
       "0              12   535892       1          0     0       0         0       0   \n",
       "1              12   535892       1          0     0       0         0       0   \n",
       "2              12   535892       1          0     0       0         0       0   \n",
       "3              12   535892       1          0     0       0         0       0   \n",
       "4              12   535892       1          0     0       0         0       0   \n",
       "...           ...      ...     ...        ...   ...     ...       ...     ...   \n",
       "4364288        13      260       0          0     0       1         0       0   \n",
       "4364289       151      536       0          0     0       1         0       0   \n",
       "4364290        25      199       1          1     0       0         0       0   \n",
       "4364291        20      151       0          0     0       0         0       0   \n",
       "4364292        39      314       0          0     0       1         0       0   \n",
       "\n",
       "         Drama  Ecchi  ...  Shoujo Ai  Shounen  Shounen Ai  Slice of Life  \\\n",
       "0            0      1  ...          0        0           0              0   \n",
       "1            0      1  ...          0        0           0              0   \n",
       "2            0      1  ...          0        0           0              0   \n",
       "3            0      1  ...          0        0           0              0   \n",
       "4            0      1  ...          0        0           0              0   \n",
       "...        ...    ...  ...        ...      ...         ...            ...   \n",
       "4364288      0      0  ...          0        0           0              0   \n",
       "4364289      0      0  ...          0        0           0              1   \n",
       "4364290      0      0  ...          0        0           0              0   \n",
       "4364291      0      0  ...          0        0           0              0   \n",
       "4364292      0      0  ...          0        0           0              0   \n",
       "\n",
       "         Space  Sports  Super Power  Supernatural  Thriller  Vampire  \n",
       "0            0       0            0             1         0        0  \n",
       "1            0       0            0             1         0        0  \n",
       "2            0       0            0             1         0        0  \n",
       "3            0       0            0             1         0        0  \n",
       "4            0       0            0             1         0        0  \n",
       "...        ...     ...          ...           ...       ...      ...  \n",
       "4364288      0       0            0             0         0        0  \n",
       "4364289      0       0            0             0         0        0  \n",
       "4364290      1       0            0             0         0        0  \n",
       "4364291      0       0            0             0         0        0  \n",
       "4364292      1       0            0             0         0        0  \n",
       "\n",
       "[4364293 rows x 42 columns]"
      ]
     },
     "execution_count": 86,
     "metadata": {},
     "output_type": "execute_result"
    }
   ],
   "source": [
    "# xdf is an extra data frame so we can seperate res from the model, we get rid\n",
    "# of some columns that would impact the model prediction\n",
    "xdf = res.drop(columns=['recommendation', 'rating', 'anime_id', 'user_id'])\n",
    "xdf"
   ]
  },
  {
   "cell_type": "code",
   "execution_count": 87,
   "id": "f53d74e1-ad47-4987-a525-df7eec77efca",
   "metadata": {},
   "outputs": [
    {
     "name": "stdout",
     "output_type": "stream",
     "text": [
      "(4364293, 42) (4364293,)\n",
      "['episodes', 'members', 'Action', 'Adventure', 'Cars', 'Comedy', 'Dementia', 'Demons', 'Drama', 'Ecchi', 'Fantasy', 'Game', 'Harem', 'Historical', 'Horror', 'Josei', 'Kids', 'Magic', 'Martial Arts', 'Mecha', 'Military', 'Music', 'Mystery', 'Parody', 'Police', 'Psychological', 'Romance', 'Samurai', 'School', 'Sci-Fi', 'Seinen', 'Shoujo', 'Shoujo Ai', 'Shounen', 'Shounen Ai', 'Slice of Life', 'Space', 'Sports', 'Super Power', 'Supernatural', 'Thriller', 'Vampire']\n"
     ]
    }
   ],
   "source": [
    "# This is the setup for the model with the X and y variables required\n",
    "X = xdf.iloc[:, :].values\n",
    "features = list(res.drop(columns=['recommendation', 'rating', 'anime_id', 'user_id']).columns)\n",
    "y = res['recommendation']\n",
    "print(X.shape, y.shape)\n",
    "print(features)"
   ]
  },
  {
   "cell_type": "code",
   "execution_count": 88,
   "id": "0a1d131b-83a8-456f-8680-8e272037a16d",
   "metadata": {},
   "outputs": [],
   "source": [
    "# Here we train the model for learning with a 20% test split\n",
    "from sklearn.model_selection import train_test_split\n",
    "X_train, X_test, y_train, y_test = train_test_split(X, y, test_size=0.20)"
   ]
  },
  {
   "cell_type": "code",
   "execution_count": 89,
   "id": "17c47288-7e51-43f3-b8aa-d250366fafa8",
   "metadata": {},
   "outputs": [],
   "source": [
    "# This is where the model trains, specifically Decision Tree Classification method\n",
    "from sklearn import tree\n",
    "from sklearn.tree import DecisionTreeClassifier\n",
    "from sklearn.metrics import classification_report, confusion_matrix, ConfusionMatrixDisplay\n",
    "import matplotlib.pyplot as plt\n",
    "import matplotlib.image as pltimg\n",
    "\n",
    "dtree = DecisionTreeClassifier()\n",
    "dtree = dtree.fit(X, y)"
   ]
  },
  {
   "cell_type": "code",
   "execution_count": 90,
   "id": "c377d13f-64a5-4188-a5c6-ead35dbf116f",
   "metadata": {},
   "outputs": [],
   "source": [
    "# This calculation allows us to know what is predicted for our analysis portions\n",
    "y_pred = dtree.predict(X_test)"
   ]
  },
  {
   "cell_type": "code",
   "execution_count": 91,
   "id": "43b585c5",
   "metadata": {},
   "outputs": [
    {
     "name": "stdout",
     "output_type": "stream",
     "text": [
      "              precision    recall  f1-score   support\n",
      "\n",
      "           0       0.60      0.04      0.07    135323\n",
      "           1       0.85      1.00      0.92    737536\n",
      "\n",
      "    accuracy                           0.85    872859\n",
      "   macro avg       0.73      0.52      0.49    872859\n",
      "weighted avg       0.81      0.85      0.78    872859\n",
      "\n"
     ]
    },
    {
     "data": {
      "image/png": "[encoded data removed]",
      "text/plain": [
       "<Figure size 432x288 with 2 Axes>"
      ]
     },
     "metadata": {},
     "output_type": "display_data"
    }
   ],
   "source": [
    "# Adding the results from the model to the analysis functions\n",
    "cm = confusion_matrix(y_test, y_pred, normalize='all')\n",
    "cmd = ConfusionMatrixDisplay(cm)\n",
    "cmd.plot()\n",
    "cmd.ax_.set(xlabel = 'Predicted', ylabel='True')\n",
    "print(classification_report(y_test, y_pred))"
   ]
  },
  {
   "cell_type": "code",
   "execution_count": 92,
   "id": "b3066911-9306-4e46-b699-be6a1b61d35d",
   "metadata": {},
   "outputs": [
    {
     "data": {
      "image/png": "[encoded data removed]",
      "text/plain": [
       "<Figure size 432x288 with 1 Axes>"
      ]
     },
     "metadata": {},
     "output_type": "display_data"
    }
   ],
   "source": [
    "# We want to find out why the model made its decisions with a feature importance graph\n",
    "importance = dtree.feature_importances_\n",
    "plt.bar([x for x in range(len(importance))], importance)\n",
    "plt.show()"
   ]
  },
  {
   "cell_type": "code",
   "execution_count": 93,
   "id": "bfffa866-6e0b-499a-b076-e6171a5f1dda",
   "metadata": {},
   "outputs": [],
   "source": [
    "# We want to see if we get any benefit from using a different type of classifier so lets\n",
    "# test the Radom Forest Classifier Model\n",
    "from sklearn.ensemble import RandomForestClassifier\n",
    "classifier = RandomForestClassifier(n_estimators=100)\n",
    "classifier.fit(X_train, y_train)\n",
    "y_pred = classifier.predict(X_test)"
   ]
  },
  {
   "cell_type": "code",
   "execution_count": 94,
   "id": "20e70e4f-daa8-4e7b-9d73-3bc55e821ace",
   "metadata": {},
   "outputs": [
    {
     "name": "stdout",
     "output_type": "stream",
     "text": [
      "              precision    recall  f1-score   support\n",
      "\n",
      "           0       0.59      0.03      0.06    135323\n",
      "           1       0.85      1.00      0.92    737536\n",
      "\n",
      "    accuracy                           0.85    872859\n",
      "   macro avg       0.72      0.51      0.49    872859\n",
      "weighted avg       0.81      0.85      0.78    872859\n",
      "\n"
     ]
    },
    {
     "data": {
      "image/png": "[encoded data removed]",
      "text/plain": [
       "<Figure size 432x288 with 2 Axes>"
      ]
     },
     "metadata": {},
     "output_type": "display_data"
    }
   ],
   "source": [
    "cm = confusion_matrix(y_test, y_pred, normalize='all')\n",
    "cmd = ConfusionMatrixDisplay(cm)\n",
    "cmd.plot()\n",
    "cmd.ax_.set(xlabel = 'Predicted', ylabel='True')\n",
    "print(classification_report(y_test, y_pred))"
   ]
  },
  {
   "cell_type": "code",
   "execution_count": 95,
   "id": "b6fd8cf5-8bcc-42e5-99e4-21c954cab17a",
   "metadata": {},
   "outputs": [
    {
     "data": {
      "image/png": "[encoded data removed]",
      "text/plain": [
       "<Figure size 432x288 with 1 Axes>"
      ]
     },
     "metadata": {},
     "output_type": "display_data"
    }
   ],
   "source": [
    "importance = dtree.feature_importances_\n",
    "plt.bar([x for x in range(len(importance))], importance)\n",
    "plt.show()"
   ]
  },
  {
   "cell_type": "markdown",
   "id": "23d3b566",
   "metadata": {},
   "source": [
    "### The code below is a reinitialization of the code from before but changing the desired show recommendation satisfaction level to 8 and 9 instead of 7 to compare models"
   ]
  },
  {
   "cell_type": "markdown",
   "id": "25b7cd3a",
   "metadata": {},
   "source": [
    "The below section is a reset on the model to include only a satisfaction rating of 8 and above"
   ]
  },
  {
   "cell_type": "code",
   "execution_count": 96,
   "id": "01ff4787",
   "metadata": {},
   "outputs": [
    {
     "name": "stdout",
     "output_type": "stream",
     "text": [
      "              precision    recall  f1-score   support\n",
      "\n",
      "           0       0.61      0.35      0.44    319951\n",
      "           1       0.70      0.87      0.78    552908\n",
      "\n",
      "    accuracy                           0.68    872859\n",
      "   macro avg       0.65      0.61      0.61    872859\n",
      "weighted avg       0.67      0.68      0.65    872859\n",
      "\n"
     ]
    },
    {
     "data": {
      "image/png": "[encoded data removed]",
      "text/plain": [
       "<Figure size 432x288 with 2 Axes>"
      ]
     },
     "metadata": {},
     "output_type": "display_data"
    }
   ],
   "source": [
    "# Satisfaction 8 code repeat from before to reset model\n",
    "\n",
    "def calc(row):\n",
    "    if row['rating'] >=8:\n",
    "        return 1\n",
    "    else:\n",
    "        return 0\n",
    "\n",
    "genredf = pd.read_csv('anime.csv')\n",
    "ratingsdf = pd.read_csv('rating.csv').dropna()\n",
    "ratingsdf = ratingsdf[ratingsdf['rating'] != -1]\n",
    "genredf = genredf[genredf.type == 'TV']\n",
    "genredf1 = genredf.drop(columns = ['name', 'type', 'episodes', 'rating', 'members', 'anime_id'])\n",
    "res = genredf.join(genredf1['genre'].str.split(', ').str.join('|').str.get_dummies())\n",
    "res = res.drop(columns = ['genre', 'type', 'name', 'rating'])\n",
    "res = res[res.episodes.apply(lambda x: x.isnumeric())]\n",
    "res = res.astype({'episodes': 'int64'})\n",
    "res = res.dropna()\n",
    "res = ratingsdf.merge(res, left_on='anime_id', right_on='anime_id')\n",
    "res['recommendation'] = res.apply(calc, axis=1)\n",
    "xdf = res.drop(columns=['recommendation', 'rating', 'anime_id', 'user_id'])\n",
    "X = xdf.iloc[:, :].values\n",
    "features = list(res.drop(columns=['recommendation', 'rating', 'anime_id', 'user_id']).columns)\n",
    "y = res['recommendation']\n",
    "X_train, X_test, y_train, y_test = train_test_split(X, y, test_size=0.20)\n",
    "dtree = DecisionTreeClassifier()\n",
    "dtree = dtree.fit(X, y)\n",
    "y_pred = dtree.predict(X_test)\n",
    "cm = confusion_matrix(y_test, y_pred, normalize='all')\n",
    "cmd = ConfusionMatrixDisplay(cm)\n",
    "cmd.plot()\n",
    "cmd.ax_.set(xlabel = 'Predicted', ylabel='True')\n",
    "print(classification_report(y_test, y_pred))"
   ]
  },
  {
   "cell_type": "code",
   "execution_count": 97,
   "id": "24dbe7e1",
   "metadata": {},
   "outputs": [
    {
     "data": {
      "image/png": "[encoded data removed]",
      "text/plain": [
       "<Figure size 432x288 with 1 Axes>"
      ]
     },
     "metadata": {},
     "output_type": "display_data"
    }
   ],
   "source": [
    "importance = dtree.feature_importances_\n",
    "plt.bar([x for x in range(len(importance))], importance)\n",
    "plt.show()"
   ]
  },
  {
   "cell_type": "markdown",
   "id": "0c6924f2",
   "metadata": {},
   "source": [
    "The below section is a reset on the model to include only a satisfaction rating of 9 and above."
   ]
  },
  {
   "cell_type": "code",
   "execution_count": 98,
   "id": "5b1a239c",
   "metadata": {},
   "outputs": [
    {
     "name": "stdout",
     "output_type": "stream",
     "text": [
      "              precision    recall  f1-score   support\n",
      "\n",
      "           0       0.70      0.86      0.77    552722\n",
      "           1       0.61      0.36      0.45    320137\n",
      "\n",
      "    accuracy                           0.68    872859\n",
      "   macro avg       0.65      0.61      0.61    872859\n",
      "weighted avg       0.67      0.68      0.66    872859\n",
      "\n"
     ]
    },
    {
     "data": {
      "image/png": "[encoded data removed]",
      "text/plain": [
       "<Figure size 432x288 with 2 Axes>"
      ]
     },
     "metadata": {},
     "output_type": "display_data"
    }
   ],
   "source": [
    "def calc(row):\n",
    "    if row['rating'] >=9:\n",
    "        return 1\n",
    "    else:\n",
    "        return 0\n",
    "\n",
    "genredf = pd.read_csv('anime.csv')\n",
    "ratingsdf = pd.read_csv('rating.csv').dropna()\n",
    "ratingsdf = ratingsdf[ratingsdf['rating'] != -1]\n",
    "genredf = genredf[genredf.type == 'TV']\n",
    "genredf1 = genredf.drop(columns = ['name', 'type', 'episodes', 'rating', 'members', 'anime_id'])\n",
    "res = genredf.join(genredf1['genre'].str.split(', ').str.join('|').str.get_dummies())\n",
    "res = res.drop(columns = ['genre', 'type', 'name', 'rating'])\n",
    "res = res[res.episodes.apply(lambda x: x.isnumeric())]\n",
    "res = res.astype({'episodes': 'int64'})\n",
    "res = res.dropna()\n",
    "res = ratingsdf.merge(res, left_on='anime_id', right_on='anime_id')\n",
    "res['recommendation'] = res.apply(calc, axis=1)\n",
    "xdf = res.drop(columns=['recommendation', 'rating', 'anime_id', 'user_id'])\n",
    "X = xdf.iloc[:, :].values\n",
    "features = list(res.drop(columns=['recommendation', 'rating', 'anime_id', 'user_id']).columns)\n",
    "y = res['recommendation']\n",
    "X_train, X_test, y_train, y_test = train_test_split(X, y, test_size=0.20)\n",
    "dtree = DecisionTreeClassifier()\n",
    "dtree = dtree.fit(X, y)\n",
    "y_pred = dtree.predict(X_test)\n",
    "cm = confusion_matrix(y_test, y_pred, normalize='all')\n",
    "cmd = ConfusionMatrixDisplay(cm)\n",
    "cmd.plot()\n",
    "cmd.ax_.set(xlabel = 'Predicted', ylabel='True')\n",
    "print(classification_report(y_test, y_pred))"
   ]
  },
  {
   "cell_type": "code",
   "execution_count": 99,
   "id": "4ef16227",
   "metadata": {},
   "outputs": [
    {
     "data": {
      "image/png": "[encoded data removed]",
      "text/plain": [
       "<Figure size 432x288 with 1 Axes>"
      ]
     },
     "metadata": {},
     "output_type": "display_data"
    }
   ],
   "source": [
    "importance = dtree.feature_importances_\n",
    "plt.bar([x for x in range(len(importance))], importance)\n",
    "plt.show()"
   ]
  },
  {
   "cell_type": "markdown",
   "id": "24e82e90",
   "metadata": {},
   "source": [
    "The below section is a reset on the model to include only a satisfaction rating of 10"
   ]
  },
  {
   "cell_type": "code",
   "execution_count": 100,
   "id": "08135f92",
   "metadata": {},
   "outputs": [
    {
     "name": "stdout",
     "output_type": "stream",
     "text": [
      "              precision    recall  f1-score   support\n",
      "\n",
      "           0       0.85      0.99      0.91    735505\n",
      "           1       0.53      0.06      0.10    137354\n",
      "\n",
      "    accuracy                           0.84    872859\n",
      "   macro avg       0.69      0.52      0.51    872859\n",
      "weighted avg       0.80      0.84      0.79    872859\n",
      "\n"
     ]
    },
    {
     "data": {
      "image/png": "[encoded data removed]",
      "text/plain": [
       "<Figure size 432x288 with 2 Axes>"
      ]
     },
     "metadata": {},
     "output_type": "display_data"
    }
   ],
   "source": [
    "def calc(row):\n",
    "    if row['rating'] == 10:\n",
    "        return 1\n",
    "    else:\n",
    "        return 0\n",
    "\n",
    "genredf = pd.read_csv('anime.csv')\n",
    "ratingsdf = pd.read_csv('rating.csv').dropna()\n",
    "ratingsdf = ratingsdf[ratingsdf['rating'] != -1]\n",
    "genredf = genredf[genredf.type == 'TV']\n",
    "genredf1 = genredf.drop(columns = ['name', 'type', 'episodes', 'rating', 'members', 'anime_id'])\n",
    "res = genredf.join(genredf1['genre'].str.split(', ').str.join('|').str.get_dummies())\n",
    "res = res.drop(columns = ['genre', 'type', 'name', 'rating'])\n",
    "res = res[res.episodes.apply(lambda x: x.isnumeric())]\n",
    "res = res.astype({'episodes': 'int64'})\n",
    "res = res.dropna()\n",
    "res = ratingsdf.merge(res, left_on='anime_id', right_on='anime_id')\n",
    "res['recommendation'] = res.apply(calc, axis=1)\n",
    "xdf = res.drop(columns=['recommendation', 'rating', 'anime_id', 'user_id'])\n",
    "X = xdf.iloc[:, :].values\n",
    "features = list(res.drop(columns=['recommendation', 'rating', 'anime_id', 'user_id']).columns)\n",
    "y = res['recommendation']\n",
    "X_train, X_test, y_train, y_test = train_test_split(X, y, test_size=0.20)\n",
    "dtree = DecisionTreeClassifier()\n",
    "dtree = dtree.fit(X, y)\n",
    "y_pred = dtree.predict(X_test)\n",
    "cm = confusion_matrix(y_test, y_pred, normalize='all')\n",
    "cmd = ConfusionMatrixDisplay(cm)\n",
    "cmd.plot()\n",
    "cmd.ax_.set(xlabel = 'Predicted', ylabel='True')\n",
    "print(classification_report(y_test, y_pred))\n"
   ]
  },
  {
   "cell_type": "code",
   "execution_count": 101,
   "id": "9d54a415",
   "metadata": {},
   "outputs": [
    {
     "data": {
      "image/png": "[encoded data removed]",
      "text/plain": [
       "<Figure size 432x288 with 1 Axes>"
      ]
     },
     "metadata": {},
     "output_type": "display_data"
    }
   ],
   "source": [
    "importance = dtree.feature_importances_\n",
    "plt.bar([x for x in range(len(importance))], importance)\n",
    "plt.show()"
   ]
  }
 ],
 "metadata": {
  "kernelspec": {
   "display_name": "Python 3 (ipykernel)",
   "language": "python",
   "name": "python3"
  },
  "language_info": {
   "codemirror_mode": {
    "name": "ipython",
    "version": 3
   },
   "file_extension": ".py",
   "mimetype": "text/x-python",
   "name": "python",
   "nbconvert_exporter": "python",
   "pygments_lexer": "ipython3",
   "version": "3.9.6"
  }
 },
 "nbformat": 4,
 "nbformat_minor": 5
}
